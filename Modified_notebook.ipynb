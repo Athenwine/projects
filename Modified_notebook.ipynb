{
 "cells": [
  {
   "cell_type": "markdown",
   "id": "f950b242",
   "metadata": {},
   "source": [
    "**<center><h1>AFD</h1></center>**"
   ]
  },
  {
   "cell_type": "markdown",
   "id": "e82e18e2",
   "metadata": {},
   "source": [
    "### **Content**"
   ]
  },
  {
   "cell_type": "markdown",
   "id": "37d4926d",
   "metadata": {},
   "source": [
    "1. Data Preprocessing\n",
    "2. Classification\n",
    "    * DecisionTreeClassifier\n",
    "    * RandomForestClassifier\n",
    "    * KNeighborsClassifier\n",
    "    * LogisticRegression\n",
    "3. Clustering"
   ]
  },
  {
   "cell_type": "markdown",
   "id": "8feca1a2",
   "metadata": {},
   "source": [
    "## **1. Data preprocessing**"
   ]
  },
  {
   "cell_type": "code",
   "execution_count": 1,
   "id": "845627e0",
   "metadata": {},
   "outputs": [],
   "source": [
    "# Import libraries\n",
    "import numpy as np # linear algebra\n",
    "import pandas as pd\n",
    "import matplotlib.pyplot as plt\n",
    "import seaborn as sns\n",
    "from sklearn.metrics import accuracy_score, confusion_matrix, classification_report\n",
    "from sklearn.ensemble import RandomForestClassifier\n",
    "from sklearn.tree import DecisionTreeClassifier, export_graphviz\n",
    "from sklearn.model_selection import train_test_split\n",
    "from sklearn.linear_model import LogisticRegression\n",
    "from sklearn.neighbors import KNeighborsClassifier  \n",
    "from sklearn.preprocessing import StandardScaler"
   ]
  },
  {
   "cell_type": "code",
   "execution_count": 2,
   "id": "ab5c0781",
   "metadata": {},
   "outputs": [],
   "source": [
    "# read the data\n",
    "df = pd.read_csv(\"data.csv\",header = 0)\n",
    "df.drop('Unnamed: 32',axis=1, inplace=True)\n",
    "df.drop('id', axis=1, inplace=True)"
   ]
  },
  {
   "cell_type": "code",
   "execution_count": 3,
   "id": "75a9f951",
   "metadata": {},
   "outputs": [
    {
     "data": {
      "text/html": [
       "<div>\n",
       "<style scoped>\n",
       "    .dataframe tbody tr th:only-of-type {\n",
       "        vertical-align: middle;\n",
       "    }\n",
       "\n",
       "    .dataframe tbody tr th {\n",
       "        vertical-align: top;\n",
       "    }\n",
       "\n",
       "    .dataframe thead th {\n",
       "        text-align: right;\n",
       "    }\n",
       "</style>\n",
       "<table border=\"1\" class=\"dataframe\">\n",
       "  <thead>\n",
       "    <tr style=\"text-align: right;\">\n",
       "      <th></th>\n",
       "      <th>diagnosis</th>\n",
       "      <th>radius_mean</th>\n",
       "      <th>texture_mean</th>\n",
       "      <th>perimeter_mean</th>\n",
       "      <th>area_mean</th>\n",
       "      <th>smoothness_mean</th>\n",
       "      <th>compactness_mean</th>\n",
       "      <th>concavity_mean</th>\n",
       "      <th>concave points_mean</th>\n",
       "      <th>symmetry_mean</th>\n",
       "      <th>...</th>\n",
       "      <th>radius_worst</th>\n",
       "      <th>texture_worst</th>\n",
       "      <th>perimeter_worst</th>\n",
       "      <th>area_worst</th>\n",
       "      <th>smoothness_worst</th>\n",
       "      <th>compactness_worst</th>\n",
       "      <th>concavity_worst</th>\n",
       "      <th>concave points_worst</th>\n",
       "      <th>symmetry_worst</th>\n",
       "      <th>fractal_dimension_worst</th>\n",
       "    </tr>\n",
       "  </thead>\n",
       "  <tbody>\n",
       "    <tr>\n",
       "      <th>0</th>\n",
       "      <td>M</td>\n",
       "      <td>17.99</td>\n",
       "      <td>10.38</td>\n",
       "      <td>122.80</td>\n",
       "      <td>1001.0</td>\n",
       "      <td>0.11840</td>\n",
       "      <td>0.27760</td>\n",
       "      <td>0.3001</td>\n",
       "      <td>0.14710</td>\n",
       "      <td>0.2419</td>\n",
       "      <td>...</td>\n",
       "      <td>25.38</td>\n",
       "      <td>17.33</td>\n",
       "      <td>184.60</td>\n",
       "      <td>2019.0</td>\n",
       "      <td>0.1622</td>\n",
       "      <td>0.6656</td>\n",
       "      <td>0.7119</td>\n",
       "      <td>0.2654</td>\n",
       "      <td>0.4601</td>\n",
       "      <td>0.11890</td>\n",
       "    </tr>\n",
       "    <tr>\n",
       "      <th>1</th>\n",
       "      <td>M</td>\n",
       "      <td>20.57</td>\n",
       "      <td>17.77</td>\n",
       "      <td>132.90</td>\n",
       "      <td>1326.0</td>\n",
       "      <td>0.08474</td>\n",
       "      <td>0.07864</td>\n",
       "      <td>0.0869</td>\n",
       "      <td>0.07017</td>\n",
       "      <td>0.1812</td>\n",
       "      <td>...</td>\n",
       "      <td>24.99</td>\n",
       "      <td>23.41</td>\n",
       "      <td>158.80</td>\n",
       "      <td>1956.0</td>\n",
       "      <td>0.1238</td>\n",
       "      <td>0.1866</td>\n",
       "      <td>0.2416</td>\n",
       "      <td>0.1860</td>\n",
       "      <td>0.2750</td>\n",
       "      <td>0.08902</td>\n",
       "    </tr>\n",
       "    <tr>\n",
       "      <th>2</th>\n",
       "      <td>M</td>\n",
       "      <td>19.69</td>\n",
       "      <td>21.25</td>\n",
       "      <td>130.00</td>\n",
       "      <td>1203.0</td>\n",
       "      <td>0.10960</td>\n",
       "      <td>0.15990</td>\n",
       "      <td>0.1974</td>\n",
       "      <td>0.12790</td>\n",
       "      <td>0.2069</td>\n",
       "      <td>...</td>\n",
       "      <td>23.57</td>\n",
       "      <td>25.53</td>\n",
       "      <td>152.50</td>\n",
       "      <td>1709.0</td>\n",
       "      <td>0.1444</td>\n",
       "      <td>0.4245</td>\n",
       "      <td>0.4504</td>\n",
       "      <td>0.2430</td>\n",
       "      <td>0.3613</td>\n",
       "      <td>0.08758</td>\n",
       "    </tr>\n",
       "    <tr>\n",
       "      <th>3</th>\n",
       "      <td>M</td>\n",
       "      <td>11.42</td>\n",
       "      <td>20.38</td>\n",
       "      <td>77.58</td>\n",
       "      <td>386.1</td>\n",
       "      <td>0.14250</td>\n",
       "      <td>0.28390</td>\n",
       "      <td>0.2414</td>\n",
       "      <td>0.10520</td>\n",
       "      <td>0.2597</td>\n",
       "      <td>...</td>\n",
       "      <td>14.91</td>\n",
       "      <td>26.50</td>\n",
       "      <td>98.87</td>\n",
       "      <td>567.7</td>\n",
       "      <td>0.2098</td>\n",
       "      <td>0.8663</td>\n",
       "      <td>0.6869</td>\n",
       "      <td>0.2575</td>\n",
       "      <td>0.6638</td>\n",
       "      <td>0.17300</td>\n",
       "    </tr>\n",
       "    <tr>\n",
       "      <th>4</th>\n",
       "      <td>M</td>\n",
       "      <td>20.29</td>\n",
       "      <td>14.34</td>\n",
       "      <td>135.10</td>\n",
       "      <td>1297.0</td>\n",
       "      <td>0.10030</td>\n",
       "      <td>0.13280</td>\n",
       "      <td>0.1980</td>\n",
       "      <td>0.10430</td>\n",
       "      <td>0.1809</td>\n",
       "      <td>...</td>\n",
       "      <td>22.54</td>\n",
       "      <td>16.67</td>\n",
       "      <td>152.20</td>\n",
       "      <td>1575.0</td>\n",
       "      <td>0.1374</td>\n",
       "      <td>0.2050</td>\n",
       "      <td>0.4000</td>\n",
       "      <td>0.1625</td>\n",
       "      <td>0.2364</td>\n",
       "      <td>0.07678</td>\n",
       "    </tr>\n",
       "  </tbody>\n",
       "</table>\n",
       "<p>5 rows × 31 columns</p>\n",
       "</div>"
      ],
      "text/plain": [
       "  diagnosis  radius_mean  texture_mean  perimeter_mean  area_mean  \\\n",
       "0         M        17.99         10.38          122.80     1001.0   \n",
       "1         M        20.57         17.77          132.90     1326.0   \n",
       "2         M        19.69         21.25          130.00     1203.0   \n",
       "3         M        11.42         20.38           77.58      386.1   \n",
       "4         M        20.29         14.34          135.10     1297.0   \n",
       "\n",
       "   smoothness_mean  compactness_mean  concavity_mean  concave points_mean  \\\n",
       "0          0.11840           0.27760          0.3001              0.14710   \n",
       "1          0.08474           0.07864          0.0869              0.07017   \n",
       "2          0.10960           0.15990          0.1974              0.12790   \n",
       "3          0.14250           0.28390          0.2414              0.10520   \n",
       "4          0.10030           0.13280          0.1980              0.10430   \n",
       "\n",
       "   symmetry_mean  ...  radius_worst  texture_worst  perimeter_worst  \\\n",
       "0         0.2419  ...         25.38          17.33           184.60   \n",
       "1         0.1812  ...         24.99          23.41           158.80   \n",
       "2         0.2069  ...         23.57          25.53           152.50   \n",
       "3         0.2597  ...         14.91          26.50            98.87   \n",
       "4         0.1809  ...         22.54          16.67           152.20   \n",
       "\n",
       "   area_worst  smoothness_worst  compactness_worst  concavity_worst  \\\n",
       "0      2019.0            0.1622             0.6656           0.7119   \n",
       "1      1956.0            0.1238             0.1866           0.2416   \n",
       "2      1709.0            0.1444             0.4245           0.4504   \n",
       "3       567.7            0.2098             0.8663           0.6869   \n",
       "4      1575.0            0.1374             0.2050           0.4000   \n",
       "\n",
       "   concave points_worst  symmetry_worst  fractal_dimension_worst  \n",
       "0                0.2654          0.4601                  0.11890  \n",
       "1                0.1860          0.2750                  0.08902  \n",
       "2                0.2430          0.3613                  0.08758  \n",
       "3                0.2575          0.6638                  0.17300  \n",
       "4                0.1625          0.2364                  0.07678  \n",
       "\n",
       "[5 rows x 31 columns]"
      ]
     },
     "execution_count": 3,
     "metadata": {},
     "output_type": "execute_result"
    }
   ],
   "source": [
    "df.head()"
   ]
  },
  {
   "cell_type": "code",
   "execution_count": 4,
   "id": "f36adc4c",
   "metadata": {},
   "outputs": [
    {
     "name": "stdout",
     "output_type": "stream",
     "text": [
      "<class 'pandas.core.frame.DataFrame'>\n",
      "RangeIndex: 569 entries, 0 to 568\n",
      "Data columns (total 31 columns):\n",
      " #   Column                   Non-Null Count  Dtype  \n",
      "---  ------                   --------------  -----  \n",
      " 0   diagnosis                569 non-null    object \n",
      " 1   radius_mean              569 non-null    float64\n",
      " 2   texture_mean             569 non-null    float64\n",
      " 3   perimeter_mean           569 non-null    float64\n",
      " 4   area_mean                569 non-null    float64\n",
      " 5   smoothness_mean          569 non-null    float64\n",
      " 6   compactness_mean         569 non-null    float64\n",
      " 7   concavity_mean           569 non-null    float64\n",
      " 8   concave points_mean      569 non-null    float64\n",
      " 9   symmetry_mean            569 non-null    float64\n",
      " 10  fractal_dimension_mean   569 non-null    float64\n",
      " 11  radius_se                569 non-null    float64\n",
      " 12  texture_se               569 non-null    float64\n",
      " 13  perimeter_se             569 non-null    float64\n",
      " 14  area_se                  569 non-null    float64\n",
      " 15  smoothness_se            569 non-null    float64\n",
      " 16  compactness_se           569 non-null    float64\n",
      " 17  concavity_se             569 non-null    float64\n",
      " 18  concave points_se        569 non-null    float64\n",
      " 19  symmetry_se              569 non-null    float64\n",
      " 20  fractal_dimension_se     569 non-null    float64\n",
      " 21  radius_worst             569 non-null    float64\n",
      " 22  texture_worst            569 non-null    float64\n",
      " 23  perimeter_worst          569 non-null    float64\n",
      " 24  area_worst               569 non-null    float64\n",
      " 25  smoothness_worst         569 non-null    float64\n",
      " 26  compactness_worst        569 non-null    float64\n",
      " 27  concavity_worst          569 non-null    float64\n",
      " 28  concave points_worst     569 non-null    float64\n",
      " 29  symmetry_worst           569 non-null    float64\n",
      " 30  fractal_dimension_worst  569 non-null    float64\n",
      "dtypes: float64(30), object(1)\n",
      "memory usage: 137.9+ KB\n"
     ]
    }
   ],
   "source": [
    "df.info()"
   ]
  },
  {
   "cell_type": "code",
   "execution_count": 5,
   "id": "ec710b8f",
   "metadata": {},
   "outputs": [
    {
     "data": {
      "text/html": [
       "<div>\n",
       "<style scoped>\n",
       "    .dataframe tbody tr th:only-of-type {\n",
       "        vertical-align: middle;\n",
       "    }\n",
       "\n",
       "    .dataframe tbody tr th {\n",
       "        vertical-align: top;\n",
       "    }\n",
       "\n",
       "    .dataframe thead th {\n",
       "        text-align: right;\n",
       "    }\n",
       "</style>\n",
       "<table border=\"1\" class=\"dataframe\">\n",
       "  <thead>\n",
       "    <tr style=\"text-align: right;\">\n",
       "      <th></th>\n",
       "      <th>diagnosis</th>\n",
       "      <th>radius_mean</th>\n",
       "      <th>texture_mean</th>\n",
       "      <th>perimeter_mean</th>\n",
       "      <th>area_mean</th>\n",
       "      <th>smoothness_mean</th>\n",
       "      <th>compactness_mean</th>\n",
       "      <th>concavity_mean</th>\n",
       "      <th>concave points_mean</th>\n",
       "      <th>symmetry_mean</th>\n",
       "      <th>...</th>\n",
       "      <th>radius_worst</th>\n",
       "      <th>texture_worst</th>\n",
       "      <th>perimeter_worst</th>\n",
       "      <th>area_worst</th>\n",
       "      <th>smoothness_worst</th>\n",
       "      <th>compactness_worst</th>\n",
       "      <th>concavity_worst</th>\n",
       "      <th>concave points_worst</th>\n",
       "      <th>symmetry_worst</th>\n",
       "      <th>fractal_dimension_worst</th>\n",
       "    </tr>\n",
       "  </thead>\n",
       "  <tbody>\n",
       "    <tr>\n",
       "      <th>count</th>\n",
       "      <td>569</td>\n",
       "      <td>569.000000</td>\n",
       "      <td>569.000000</td>\n",
       "      <td>569.000000</td>\n",
       "      <td>569.000000</td>\n",
       "      <td>569.000000</td>\n",
       "      <td>569.000000</td>\n",
       "      <td>569.000000</td>\n",
       "      <td>569.000000</td>\n",
       "      <td>569.000000</td>\n",
       "      <td>...</td>\n",
       "      <td>569.000000</td>\n",
       "      <td>569.000000</td>\n",
       "      <td>569.000000</td>\n",
       "      <td>569.000000</td>\n",
       "      <td>569.000000</td>\n",
       "      <td>569.000000</td>\n",
       "      <td>569.000000</td>\n",
       "      <td>569.000000</td>\n",
       "      <td>569.000000</td>\n",
       "      <td>569.000000</td>\n",
       "    </tr>\n",
       "    <tr>\n",
       "      <th>unique</th>\n",
       "      <td>2</td>\n",
       "      <td>NaN</td>\n",
       "      <td>NaN</td>\n",
       "      <td>NaN</td>\n",
       "      <td>NaN</td>\n",
       "      <td>NaN</td>\n",
       "      <td>NaN</td>\n",
       "      <td>NaN</td>\n",
       "      <td>NaN</td>\n",
       "      <td>NaN</td>\n",
       "      <td>...</td>\n",
       "      <td>NaN</td>\n",
       "      <td>NaN</td>\n",
       "      <td>NaN</td>\n",
       "      <td>NaN</td>\n",
       "      <td>NaN</td>\n",
       "      <td>NaN</td>\n",
       "      <td>NaN</td>\n",
       "      <td>NaN</td>\n",
       "      <td>NaN</td>\n",
       "      <td>NaN</td>\n",
       "    </tr>\n",
       "    <tr>\n",
       "      <th>top</th>\n",
       "      <td>B</td>\n",
       "      <td>NaN</td>\n",
       "      <td>NaN</td>\n",
       "      <td>NaN</td>\n",
       "      <td>NaN</td>\n",
       "      <td>NaN</td>\n",
       "      <td>NaN</td>\n",
       "      <td>NaN</td>\n",
       "      <td>NaN</td>\n",
       "      <td>NaN</td>\n",
       "      <td>...</td>\n",
       "      <td>NaN</td>\n",
       "      <td>NaN</td>\n",
       "      <td>NaN</td>\n",
       "      <td>NaN</td>\n",
       "      <td>NaN</td>\n",
       "      <td>NaN</td>\n",
       "      <td>NaN</td>\n",
       "      <td>NaN</td>\n",
       "      <td>NaN</td>\n",
       "      <td>NaN</td>\n",
       "    </tr>\n",
       "    <tr>\n",
       "      <th>freq</th>\n",
       "      <td>357</td>\n",
       "      <td>NaN</td>\n",
       "      <td>NaN</td>\n",
       "      <td>NaN</td>\n",
       "      <td>NaN</td>\n",
       "      <td>NaN</td>\n",
       "      <td>NaN</td>\n",
       "      <td>NaN</td>\n",
       "      <td>NaN</td>\n",
       "      <td>NaN</td>\n",
       "      <td>...</td>\n",
       "      <td>NaN</td>\n",
       "      <td>NaN</td>\n",
       "      <td>NaN</td>\n",
       "      <td>NaN</td>\n",
       "      <td>NaN</td>\n",
       "      <td>NaN</td>\n",
       "      <td>NaN</td>\n",
       "      <td>NaN</td>\n",
       "      <td>NaN</td>\n",
       "      <td>NaN</td>\n",
       "    </tr>\n",
       "    <tr>\n",
       "      <th>mean</th>\n",
       "      <td>NaN</td>\n",
       "      <td>14.127292</td>\n",
       "      <td>19.289649</td>\n",
       "      <td>91.969033</td>\n",
       "      <td>654.889104</td>\n",
       "      <td>0.096360</td>\n",
       "      <td>0.104341</td>\n",
       "      <td>0.088799</td>\n",
       "      <td>0.048919</td>\n",
       "      <td>0.181162</td>\n",
       "      <td>...</td>\n",
       "      <td>16.269190</td>\n",
       "      <td>25.677223</td>\n",
       "      <td>107.261213</td>\n",
       "      <td>880.583128</td>\n",
       "      <td>0.132369</td>\n",
       "      <td>0.254265</td>\n",
       "      <td>0.272188</td>\n",
       "      <td>0.114606</td>\n",
       "      <td>0.290076</td>\n",
       "      <td>0.083946</td>\n",
       "    </tr>\n",
       "    <tr>\n",
       "      <th>std</th>\n",
       "      <td>NaN</td>\n",
       "      <td>3.524049</td>\n",
       "      <td>4.301036</td>\n",
       "      <td>24.298981</td>\n",
       "      <td>351.914129</td>\n",
       "      <td>0.014064</td>\n",
       "      <td>0.052813</td>\n",
       "      <td>0.079720</td>\n",
       "      <td>0.038803</td>\n",
       "      <td>0.027414</td>\n",
       "      <td>...</td>\n",
       "      <td>4.833242</td>\n",
       "      <td>6.146258</td>\n",
       "      <td>33.602542</td>\n",
       "      <td>569.356993</td>\n",
       "      <td>0.022832</td>\n",
       "      <td>0.157336</td>\n",
       "      <td>0.208624</td>\n",
       "      <td>0.065732</td>\n",
       "      <td>0.061867</td>\n",
       "      <td>0.018061</td>\n",
       "    </tr>\n",
       "    <tr>\n",
       "      <th>min</th>\n",
       "      <td>NaN</td>\n",
       "      <td>6.981000</td>\n",
       "      <td>9.710000</td>\n",
       "      <td>43.790000</td>\n",
       "      <td>143.500000</td>\n",
       "      <td>0.052630</td>\n",
       "      <td>0.019380</td>\n",
       "      <td>0.000000</td>\n",
       "      <td>0.000000</td>\n",
       "      <td>0.106000</td>\n",
       "      <td>...</td>\n",
       "      <td>7.930000</td>\n",
       "      <td>12.020000</td>\n",
       "      <td>50.410000</td>\n",
       "      <td>185.200000</td>\n",
       "      <td>0.071170</td>\n",
       "      <td>0.027290</td>\n",
       "      <td>0.000000</td>\n",
       "      <td>0.000000</td>\n",
       "      <td>0.156500</td>\n",
       "      <td>0.055040</td>\n",
       "    </tr>\n",
       "    <tr>\n",
       "      <th>25%</th>\n",
       "      <td>NaN</td>\n",
       "      <td>11.700000</td>\n",
       "      <td>16.170000</td>\n",
       "      <td>75.170000</td>\n",
       "      <td>420.300000</td>\n",
       "      <td>0.086370</td>\n",
       "      <td>0.064920</td>\n",
       "      <td>0.029560</td>\n",
       "      <td>0.020310</td>\n",
       "      <td>0.161900</td>\n",
       "      <td>...</td>\n",
       "      <td>13.010000</td>\n",
       "      <td>21.080000</td>\n",
       "      <td>84.110000</td>\n",
       "      <td>515.300000</td>\n",
       "      <td>0.116600</td>\n",
       "      <td>0.147200</td>\n",
       "      <td>0.114500</td>\n",
       "      <td>0.064930</td>\n",
       "      <td>0.250400</td>\n",
       "      <td>0.071460</td>\n",
       "    </tr>\n",
       "    <tr>\n",
       "      <th>50%</th>\n",
       "      <td>NaN</td>\n",
       "      <td>13.370000</td>\n",
       "      <td>18.840000</td>\n",
       "      <td>86.240000</td>\n",
       "      <td>551.100000</td>\n",
       "      <td>0.095870</td>\n",
       "      <td>0.092630</td>\n",
       "      <td>0.061540</td>\n",
       "      <td>0.033500</td>\n",
       "      <td>0.179200</td>\n",
       "      <td>...</td>\n",
       "      <td>14.970000</td>\n",
       "      <td>25.410000</td>\n",
       "      <td>97.660000</td>\n",
       "      <td>686.500000</td>\n",
       "      <td>0.131300</td>\n",
       "      <td>0.211900</td>\n",
       "      <td>0.226700</td>\n",
       "      <td>0.099930</td>\n",
       "      <td>0.282200</td>\n",
       "      <td>0.080040</td>\n",
       "    </tr>\n",
       "    <tr>\n",
       "      <th>75%</th>\n",
       "      <td>NaN</td>\n",
       "      <td>15.780000</td>\n",
       "      <td>21.800000</td>\n",
       "      <td>104.100000</td>\n",
       "      <td>782.700000</td>\n",
       "      <td>0.105300</td>\n",
       "      <td>0.130400</td>\n",
       "      <td>0.130700</td>\n",
       "      <td>0.074000</td>\n",
       "      <td>0.195700</td>\n",
       "      <td>...</td>\n",
       "      <td>18.790000</td>\n",
       "      <td>29.720000</td>\n",
       "      <td>125.400000</td>\n",
       "      <td>1084.000000</td>\n",
       "      <td>0.146000</td>\n",
       "      <td>0.339100</td>\n",
       "      <td>0.382900</td>\n",
       "      <td>0.161400</td>\n",
       "      <td>0.317900</td>\n",
       "      <td>0.092080</td>\n",
       "    </tr>\n",
       "    <tr>\n",
       "      <th>max</th>\n",
       "      <td>NaN</td>\n",
       "      <td>28.110000</td>\n",
       "      <td>39.280000</td>\n",
       "      <td>188.500000</td>\n",
       "      <td>2501.000000</td>\n",
       "      <td>0.163400</td>\n",
       "      <td>0.345400</td>\n",
       "      <td>0.426800</td>\n",
       "      <td>0.201200</td>\n",
       "      <td>0.304000</td>\n",
       "      <td>...</td>\n",
       "      <td>36.040000</td>\n",
       "      <td>49.540000</td>\n",
       "      <td>251.200000</td>\n",
       "      <td>4254.000000</td>\n",
       "      <td>0.222600</td>\n",
       "      <td>1.058000</td>\n",
       "      <td>1.252000</td>\n",
       "      <td>0.291000</td>\n",
       "      <td>0.663800</td>\n",
       "      <td>0.207500</td>\n",
       "    </tr>\n",
       "  </tbody>\n",
       "</table>\n",
       "<p>11 rows × 31 columns</p>\n",
       "</div>"
      ],
      "text/plain": [
       "       diagnosis  radius_mean  texture_mean  perimeter_mean    area_mean  \\\n",
       "count        569   569.000000    569.000000      569.000000   569.000000   \n",
       "unique         2          NaN           NaN             NaN          NaN   \n",
       "top            B          NaN           NaN             NaN          NaN   \n",
       "freq         357          NaN           NaN             NaN          NaN   \n",
       "mean         NaN    14.127292     19.289649       91.969033   654.889104   \n",
       "std          NaN     3.524049      4.301036       24.298981   351.914129   \n",
       "min          NaN     6.981000      9.710000       43.790000   143.500000   \n",
       "25%          NaN    11.700000     16.170000       75.170000   420.300000   \n",
       "50%          NaN    13.370000     18.840000       86.240000   551.100000   \n",
       "75%          NaN    15.780000     21.800000      104.100000   782.700000   \n",
       "max          NaN    28.110000     39.280000      188.500000  2501.000000   \n",
       "\n",
       "        smoothness_mean  compactness_mean  concavity_mean  \\\n",
       "count        569.000000        569.000000      569.000000   \n",
       "unique              NaN               NaN             NaN   \n",
       "top                 NaN               NaN             NaN   \n",
       "freq                NaN               NaN             NaN   \n",
       "mean           0.096360          0.104341        0.088799   \n",
       "std            0.014064          0.052813        0.079720   \n",
       "min            0.052630          0.019380        0.000000   \n",
       "25%            0.086370          0.064920        0.029560   \n",
       "50%            0.095870          0.092630        0.061540   \n",
       "75%            0.105300          0.130400        0.130700   \n",
       "max            0.163400          0.345400        0.426800   \n",
       "\n",
       "        concave points_mean  symmetry_mean  ...  radius_worst  texture_worst  \\\n",
       "count            569.000000     569.000000  ...    569.000000     569.000000   \n",
       "unique                  NaN            NaN  ...           NaN            NaN   \n",
       "top                     NaN            NaN  ...           NaN            NaN   \n",
       "freq                    NaN            NaN  ...           NaN            NaN   \n",
       "mean               0.048919       0.181162  ...     16.269190      25.677223   \n",
       "std                0.038803       0.027414  ...      4.833242       6.146258   \n",
       "min                0.000000       0.106000  ...      7.930000      12.020000   \n",
       "25%                0.020310       0.161900  ...     13.010000      21.080000   \n",
       "50%                0.033500       0.179200  ...     14.970000      25.410000   \n",
       "75%                0.074000       0.195700  ...     18.790000      29.720000   \n",
       "max                0.201200       0.304000  ...     36.040000      49.540000   \n",
       "\n",
       "        perimeter_worst   area_worst  smoothness_worst  compactness_worst  \\\n",
       "count        569.000000   569.000000        569.000000         569.000000   \n",
       "unique              NaN          NaN               NaN                NaN   \n",
       "top                 NaN          NaN               NaN                NaN   \n",
       "freq                NaN          NaN               NaN                NaN   \n",
       "mean         107.261213   880.583128          0.132369           0.254265   \n",
       "std           33.602542   569.356993          0.022832           0.157336   \n",
       "min           50.410000   185.200000          0.071170           0.027290   \n",
       "25%           84.110000   515.300000          0.116600           0.147200   \n",
       "50%           97.660000   686.500000          0.131300           0.211900   \n",
       "75%          125.400000  1084.000000          0.146000           0.339100   \n",
       "max          251.200000  4254.000000          0.222600           1.058000   \n",
       "\n",
       "        concavity_worst  concave points_worst  symmetry_worst  \\\n",
       "count        569.000000            569.000000      569.000000   \n",
       "unique              NaN                   NaN             NaN   \n",
       "top                 NaN                   NaN             NaN   \n",
       "freq                NaN                   NaN             NaN   \n",
       "mean           0.272188              0.114606        0.290076   \n",
       "std            0.208624              0.065732        0.061867   \n",
       "min            0.000000              0.000000        0.156500   \n",
       "25%            0.114500              0.064930        0.250400   \n",
       "50%            0.226700              0.099930        0.282200   \n",
       "75%            0.382900              0.161400        0.317900   \n",
       "max            1.252000              0.291000        0.663800   \n",
       "\n",
       "        fractal_dimension_worst  \n",
       "count                569.000000  \n",
       "unique                      NaN  \n",
       "top                         NaN  \n",
       "freq                        NaN  \n",
       "mean                   0.083946  \n",
       "std                    0.018061  \n",
       "min                    0.055040  \n",
       "25%                    0.071460  \n",
       "50%                    0.080040  \n",
       "75%                    0.092080  \n",
       "max                    0.207500  \n",
       "\n",
       "[11 rows x 31 columns]"
      ]
     },
     "execution_count": 5,
     "metadata": {},
     "output_type": "execute_result"
    }
   ],
   "source": [
    "df.describe(include=\"all\")"
   ]
  },
  {
   "cell_type": "code",
   "execution_count": 6,
   "id": "24d5b82d",
   "metadata": {},
   "outputs": [
    {
     "data": {
      "text/plain": [
       "0"
      ]
     },
     "execution_count": 6,
     "metadata": {},
     "output_type": "execute_result"
    }
   ],
   "source": [
    "# check for duplicate rows\n",
    "df.duplicated().sum()"
   ]
  },
  {
   "cell_type": "code",
   "execution_count": 7,
   "id": "428b7eca",
   "metadata": {},
   "outputs": [
    {
     "data": {
      "text/plain": [
       "diagnosis                  0\n",
       "radius_mean                0\n",
       "texture_mean               0\n",
       "perimeter_mean             0\n",
       "area_mean                  0\n",
       "smoothness_mean            0\n",
       "compactness_mean           0\n",
       "concavity_mean             0\n",
       "concave points_mean        0\n",
       "symmetry_mean              0\n",
       "fractal_dimension_mean     0\n",
       "radius_se                  0\n",
       "texture_se                 0\n",
       "perimeter_se               0\n",
       "area_se                    0\n",
       "smoothness_se              0\n",
       "compactness_se             0\n",
       "concavity_se               0\n",
       "concave points_se          0\n",
       "symmetry_se                0\n",
       "fractal_dimension_se       0\n",
       "radius_worst               0\n",
       "texture_worst              0\n",
       "perimeter_worst            0\n",
       "area_worst                 0\n",
       "smoothness_worst           0\n",
       "compactness_worst          0\n",
       "concavity_worst            0\n",
       "concave points_worst       0\n",
       "symmetry_worst             0\n",
       "fractal_dimension_worst    0\n",
       "dtype: int64"
      ]
     },
     "execution_count": 7,
     "metadata": {},
     "output_type": "execute_result"
    }
   ],
   "source": [
    "# check for Nan values\n",
    "df.isna().sum()"
   ]
  },
  {
   "cell_type": "markdown",
   "id": "e6b63417",
   "metadata": {},
   "source": [
    "after exploring our dataset, we noticed that we don't have Nan values and duplicate rows"
   ]
  },
  {
   "cell_type": "code",
   "execution_count": 8,
   "id": "c5a07bed",
   "metadata": {},
   "outputs": [
    {
     "data": {
      "text/html": [
       "<div>\n",
       "<style scoped>\n",
       "    .dataframe tbody tr th:only-of-type {\n",
       "        vertical-align: middle;\n",
       "    }\n",
       "\n",
       "    .dataframe tbody tr th {\n",
       "        vertical-align: top;\n",
       "    }\n",
       "\n",
       "    .dataframe thead th {\n",
       "        text-align: right;\n",
       "    }\n",
       "</style>\n",
       "<table border=\"1\" class=\"dataframe\">\n",
       "  <thead>\n",
       "    <tr style=\"text-align: right;\">\n",
       "      <th></th>\n",
       "      <th>diagnosis</th>\n",
       "      <th>radius_mean</th>\n",
       "      <th>texture_mean</th>\n",
       "      <th>perimeter_mean</th>\n",
       "      <th>area_mean</th>\n",
       "      <th>smoothness_mean</th>\n",
       "      <th>compactness_mean</th>\n",
       "      <th>concavity_mean</th>\n",
       "      <th>concave points_mean</th>\n",
       "      <th>symmetry_mean</th>\n",
       "      <th>...</th>\n",
       "      <th>radius_worst</th>\n",
       "      <th>texture_worst</th>\n",
       "      <th>perimeter_worst</th>\n",
       "      <th>area_worst</th>\n",
       "      <th>smoothness_worst</th>\n",
       "      <th>compactness_worst</th>\n",
       "      <th>concavity_worst</th>\n",
       "      <th>concave points_worst</th>\n",
       "      <th>symmetry_worst</th>\n",
       "      <th>fractal_dimension_worst</th>\n",
       "    </tr>\n",
       "  </thead>\n",
       "  <tbody>\n",
       "    <tr>\n",
       "      <th>0</th>\n",
       "      <td>M</td>\n",
       "      <td>17.99</td>\n",
       "      <td>10.38</td>\n",
       "      <td>122.80</td>\n",
       "      <td>1001.0</td>\n",
       "      <td>0.11840</td>\n",
       "      <td>0.27760</td>\n",
       "      <td>0.3001</td>\n",
       "      <td>0.14710</td>\n",
       "      <td>0.2419</td>\n",
       "      <td>...</td>\n",
       "      <td>25.38</td>\n",
       "      <td>17.33</td>\n",
       "      <td>184.60</td>\n",
       "      <td>2019.0</td>\n",
       "      <td>0.1622</td>\n",
       "      <td>0.6656</td>\n",
       "      <td>0.7119</td>\n",
       "      <td>0.2654</td>\n",
       "      <td>0.4601</td>\n",
       "      <td>0.11890</td>\n",
       "    </tr>\n",
       "    <tr>\n",
       "      <th>1</th>\n",
       "      <td>M</td>\n",
       "      <td>20.57</td>\n",
       "      <td>17.77</td>\n",
       "      <td>132.90</td>\n",
       "      <td>1326.0</td>\n",
       "      <td>0.08474</td>\n",
       "      <td>0.07864</td>\n",
       "      <td>0.0869</td>\n",
       "      <td>0.07017</td>\n",
       "      <td>0.1812</td>\n",
       "      <td>...</td>\n",
       "      <td>24.99</td>\n",
       "      <td>23.41</td>\n",
       "      <td>158.80</td>\n",
       "      <td>1956.0</td>\n",
       "      <td>0.1238</td>\n",
       "      <td>0.1866</td>\n",
       "      <td>0.2416</td>\n",
       "      <td>0.1860</td>\n",
       "      <td>0.2750</td>\n",
       "      <td>0.08902</td>\n",
       "    </tr>\n",
       "    <tr>\n",
       "      <th>2</th>\n",
       "      <td>M</td>\n",
       "      <td>19.69</td>\n",
       "      <td>21.25</td>\n",
       "      <td>130.00</td>\n",
       "      <td>1203.0</td>\n",
       "      <td>0.10960</td>\n",
       "      <td>0.15990</td>\n",
       "      <td>0.1974</td>\n",
       "      <td>0.12790</td>\n",
       "      <td>0.2069</td>\n",
       "      <td>...</td>\n",
       "      <td>23.57</td>\n",
       "      <td>25.53</td>\n",
       "      <td>152.50</td>\n",
       "      <td>1709.0</td>\n",
       "      <td>0.1444</td>\n",
       "      <td>0.4245</td>\n",
       "      <td>0.4504</td>\n",
       "      <td>0.2430</td>\n",
       "      <td>0.3613</td>\n",
       "      <td>0.08758</td>\n",
       "    </tr>\n",
       "    <tr>\n",
       "      <th>3</th>\n",
       "      <td>M</td>\n",
       "      <td>11.42</td>\n",
       "      <td>20.38</td>\n",
       "      <td>77.58</td>\n",
       "      <td>386.1</td>\n",
       "      <td>0.14250</td>\n",
       "      <td>0.28390</td>\n",
       "      <td>0.2414</td>\n",
       "      <td>0.10520</td>\n",
       "      <td>0.2597</td>\n",
       "      <td>...</td>\n",
       "      <td>14.91</td>\n",
       "      <td>26.50</td>\n",
       "      <td>98.87</td>\n",
       "      <td>567.7</td>\n",
       "      <td>0.2098</td>\n",
       "      <td>0.8663</td>\n",
       "      <td>0.6869</td>\n",
       "      <td>0.2575</td>\n",
       "      <td>0.6638</td>\n",
       "      <td>0.17300</td>\n",
       "    </tr>\n",
       "    <tr>\n",
       "      <th>4</th>\n",
       "      <td>M</td>\n",
       "      <td>20.29</td>\n",
       "      <td>14.34</td>\n",
       "      <td>135.10</td>\n",
       "      <td>1297.0</td>\n",
       "      <td>0.10030</td>\n",
       "      <td>0.13280</td>\n",
       "      <td>0.1980</td>\n",
       "      <td>0.10430</td>\n",
       "      <td>0.1809</td>\n",
       "      <td>...</td>\n",
       "      <td>22.54</td>\n",
       "      <td>16.67</td>\n",
       "      <td>152.20</td>\n",
       "      <td>1575.0</td>\n",
       "      <td>0.1374</td>\n",
       "      <td>0.2050</td>\n",
       "      <td>0.4000</td>\n",
       "      <td>0.1625</td>\n",
       "      <td>0.2364</td>\n",
       "      <td>0.07678</td>\n",
       "    </tr>\n",
       "  </tbody>\n",
       "</table>\n",
       "<p>5 rows × 31 columns</p>\n",
       "</div>"
      ],
      "text/plain": [
       "  diagnosis  radius_mean  texture_mean  perimeter_mean  area_mean  \\\n",
       "0         M        17.99         10.38          122.80     1001.0   \n",
       "1         M        20.57         17.77          132.90     1326.0   \n",
       "2         M        19.69         21.25          130.00     1203.0   \n",
       "3         M        11.42         20.38           77.58      386.1   \n",
       "4         M        20.29         14.34          135.10     1297.0   \n",
       "\n",
       "   smoothness_mean  compactness_mean  concavity_mean  concave points_mean  \\\n",
       "0          0.11840           0.27760          0.3001              0.14710   \n",
       "1          0.08474           0.07864          0.0869              0.07017   \n",
       "2          0.10960           0.15990          0.1974              0.12790   \n",
       "3          0.14250           0.28390          0.2414              0.10520   \n",
       "4          0.10030           0.13280          0.1980              0.10430   \n",
       "\n",
       "   symmetry_mean  ...  radius_worst  texture_worst  perimeter_worst  \\\n",
       "0         0.2419  ...         25.38          17.33           184.60   \n",
       "1         0.1812  ...         24.99          23.41           158.80   \n",
       "2         0.2069  ...         23.57          25.53           152.50   \n",
       "3         0.2597  ...         14.91          26.50            98.87   \n",
       "4         0.1809  ...         22.54          16.67           152.20   \n",
       "\n",
       "   area_worst  smoothness_worst  compactness_worst  concavity_worst  \\\n",
       "0      2019.0            0.1622             0.6656           0.7119   \n",
       "1      1956.0            0.1238             0.1866           0.2416   \n",
       "2      1709.0            0.1444             0.4245           0.4504   \n",
       "3       567.7            0.2098             0.8663           0.6869   \n",
       "4      1575.0            0.1374             0.2050           0.4000   \n",
       "\n",
       "   concave points_worst  symmetry_worst  fractal_dimension_worst  \n",
       "0                0.2654          0.4601                  0.11890  \n",
       "1                0.1860          0.2750                  0.08902  \n",
       "2                0.2430          0.3613                  0.08758  \n",
       "3                0.2575          0.6638                  0.17300  \n",
       "4                0.1625          0.2364                  0.07678  \n",
       "\n",
       "[5 rows x 31 columns]"
      ]
     },
     "execution_count": 8,
     "metadata": {},
     "output_type": "execute_result"
    }
   ],
   "source": [
    "df.head()"
   ]
  },
  {
   "cell_type": "code",
   "execution_count": 9,
   "id": "363c060f",
   "metadata": {},
   "outputs": [
    {
     "data": {
      "image/png": "[encoded data removed]",
      "text/plain": [
       "<Figure size 576x432 with 1 Axes>"
      ]
     },
     "metadata": {
      "needs_background": "light"
     },
     "output_type": "display_data"
    }
   ],
   "source": [
    "df_plotted = df['diagnosis'].value_counts()\n",
    "# Defining the plotsize\n",
    "plt.figure(figsize=(8, 6))\n",
    "# Defining the x-axis, the y-axis and the data\n",
    "plots = sns.barplot(x=df_plotted.index, y=df_plotted)\n",
    "# Setting the x-acis label and its size\n",
    "plt.xlabel(\"Diagnosis\", size=15)\n",
    "\n",
    "# Setting the y-axis label and its size\n",
    "plt.ylabel(\"numbers\", size=15)\n",
    "\n",
    "# Finallt plotting the graph\n",
    "plt.show()"
   ]
  },
  {
   "cell_type": "markdown",
   "id": "0ce61b9b",
   "metadata": {},
   "source": [
    "The **diagnosis** (target) variable that we are going to use is imbalanced."
   ]
  },
  {
   "cell_type": "markdown",
   "id": "9aacc986",
   "metadata": {},
   "source": [
    "Now let's check the correlation between the variables"
   ]
  },
  {
   "cell_type": "code",
   "execution_count": 10,
   "id": "7a242969",
   "metadata": {},
   "outputs": [
    {
     "data": {
      "image/png": "[encoded data removed]",
      "text/plain": [
       "<Figure size 1152x432 with 2 Axes>"
      ]
     },
     "metadata": {
      "needs_background": "light"
     },
     "output_type": "display_data"
    }
   ],
   "source": [
    "plt.figure(figsize=(16, 6))\n",
    "heatmap = sns.heatmap(df.iloc[:, 0:16].corr(), vmin=-1, vmax=1, annot=True)\n",
    "heatmap.set_title('Correlation Heatmap', fontdict={'fontsize':12}, pad=12);"
   ]
  },
  {
   "cell_type": "markdown",
   "id": "2fbf9ffe",
   "metadata": {},
   "source": [
    "## **2. Classification**"
   ]
  },
  {
   "cell_type": "markdown",
   "id": "f8e7f271",
   "metadata": {},
   "source": [
    "For classification, we are going to use diagnosis as target variable"
   ]
  },
  {
   "cell_type": "code",
   "execution_count": 11,
   "id": "16c66987",
   "metadata": {},
   "outputs": [],
   "source": [
    "df['diagnosis'] = df['diagnosis'].map({'M':1,'B':0})"
   ]
  },
  {
   "cell_type": "markdown",
   "id": "b1b51394",
   "metadata": {},
   "source": [
    "Declare feature vector and target variable "
   ]
  },
  {
   "cell_type": "code",
   "execution_count": 12,
   "id": "53c8342a",
   "metadata": {},
   "outputs": [],
   "source": [
    "X = df.drop(['diagnosis'], axis=1)\n",
    "y = df['diagnosis']"
   ]
  },
  {
   "cell_type": "markdown",
   "id": "186da64c",
   "metadata": {},
   "source": [
    "Split data into separate training and test set "
   ]
  },
  {
   "cell_type": "code",
   "execution_count": 13,
   "id": "36cb5e92",
   "metadata": {},
   "outputs": [],
   "source": [
    "X_train, X_test, y_train, y_test = train_test_split(X, y, test_size = 0.33, random_state = 42)"
   ]
  },
  {
   "cell_type": "code",
   "execution_count": 14,
   "id": "2065825e",
   "metadata": {},
   "outputs": [
    {
     "data": {
      "text/plain": [
       "((381, 30), (188, 30), (381,), (188,))"
      ]
     },
     "execution_count": 14,
     "metadata": {},
     "output_type": "execute_result"
    }
   ],
   "source": [
    "X_train.shape, X_test.shape, y_train.shape, y_test.shape"
   ]
  },
  {
   "cell_type": "markdown",
   "id": "d992e7e8",
   "metadata": {},
   "source": [
    "### DecisionTreeClassifier"
   ]
  },
  {
   "cell_type": "code",
   "execution_count": 15,
   "id": "8ee93efd",
   "metadata": {},
   "outputs": [],
   "source": [
    "dtc = DecisionTreeClassifier(random_state=0)\n",
    "# fit the model\n",
    "dtc.fit(X_train, y_train)\n",
    "# Predict the Test set results\n",
    "y_pred = dtc.predict(X_test)"
   ]
  },
  {
   "cell_type": "code",
   "execution_count": 16,
   "id": "a0dd13dc",
   "metadata": {},
   "outputs": [
    {
     "name": "stdout",
     "output_type": "stream",
     "text": [
      "Accuracy Score: 91.49%\n",
      "_______________________________________________\n",
      "Confusion Matrix: \n",
      "               precision    recall  f1-score   support\n",
      "\n",
      "           0       0.98      0.88      0.93       121\n",
      "           1       0.82      0.97      0.89        67\n",
      "\n",
      "    accuracy                           0.91       188\n",
      "   macro avg       0.90      0.93      0.91       188\n",
      "weighted avg       0.93      0.91      0.92       188\n",
      "\n",
      "\n"
     ]
    }
   ],
   "source": [
    "print(f\"Accuracy Score: {accuracy_score(y_test, y_pred) * 100:.2f}%\")\n",
    "print(\"_______________________________________________\")\n",
    "print(f\"Confusion Matrix: \\n {classification_report(y_test, y_pred)}\\n\")"
   ]
  },
  {
   "cell_type": "markdown",
   "id": "7f32f38b",
   "metadata": {},
   "source": [
    "### RandomForestClassifier"
   ]
  },
  {
   "cell_type": "code",
   "execution_count": 17,
   "id": "22915281",
   "metadata": {},
   "outputs": [],
   "source": [
    "rfc = RandomForestClassifier(random_state=0)\n",
    "# fit the model\n",
    "rfc.fit(X_train, y_train)\n",
    "# Predict the Test set results\n",
    "y_pred = rfc.predict(X_test)"
   ]
  },
  {
   "cell_type": "code",
   "execution_count": 18,
   "id": "eaf7d491",
   "metadata": {},
   "outputs": [
    {
     "name": "stdout",
     "output_type": "stream",
     "text": [
      "Accuracy Score: 95.21%\n",
      "_______________________________________________\n",
      "Confusion Matrix: \n",
      "               precision    recall  f1-score   support\n",
      "\n",
      "           0       0.95      0.98      0.96       121\n",
      "           1       0.95      0.91      0.93        67\n",
      "\n",
      "    accuracy                           0.95       188\n",
      "   macro avg       0.95      0.94      0.95       188\n",
      "weighted avg       0.95      0.95      0.95       188\n",
      "\n",
      "\n"
     ]
    }
   ],
   "source": [
    "print(f\"Accuracy Score: {accuracy_score(y_test, y_pred) * 100:.2f}%\")\n",
    "print(\"_______________________________________________\")\n",
    "print(f\"Confusion Matrix: \\n {classification_report(y_test, y_pred)}\\n\")"
   ]
  },
  {
   "cell_type": "markdown",
   "id": "7c9397cf",
   "metadata": {},
   "source": [
    "Until now, I have used all the features given in the model. So, let's see the important features in our dataset."
   ]
  },
  {
   "cell_type": "code",
   "execution_count": 19,
   "id": "1c3ce556",
   "metadata": {},
   "outputs": [],
   "source": [
    "clf = RandomForestClassifier(random_state=0)\n",
    "clf.fit(X_train, y_train)\n",
    "feature_scores = pd.Series(clf.feature_importances_, index=X_train.columns).sort_values(ascending=False)"
   ]
  },
  {
   "cell_type": "code",
   "execution_count": 20,
   "id": "f7d4741c",
   "metadata": {},
   "outputs": [
    {
     "data": {
      "image/png": "[encoded data removed]",
      "text/plain": [
       "<Figure size 2160x1728 with 1 Axes>"
      ]
     },
     "metadata": {
      "needs_background": "light"
     },
     "output_type": "display_data"
    }
   ],
   "source": [
    "# Creating a seaborn bar plot\n",
    "f, ax = plt.subplots(figsize=(30, 24))\n",
    "ax = sns.barplot(x=feature_scores, y=feature_scores.index)\n",
    "ax.set_title(\"Visualize feature scores of the features\")\n",
    "ax.set_yticklabels(feature_scores.index)\n",
    "ax.set_xlabel(\"Feature importance score\")\n",
    "ax.set_ylabel(\"Features\")\n",
    "plt.show()"
   ]
  },
  {
   "cell_type": "markdown",
   "id": "d158b545",
   "metadata": {},
   "source": [
    "let's drop some least important features to see if there is any difference in the performance of the model"
   ]
  },
  {
   "cell_type": "code",
   "execution_count": 21,
   "id": "5561dee3",
   "metadata": {},
   "outputs": [],
   "source": [
    "# drop the least important feature from X_train and X_test\n",
    "X_train_mod = X_train.drop(['symmetry_mean', 'compactness_mean', 'compactness_se'], axis=1)\n",
    "X_test_mod = X_test.drop(['symmetry_mean', 'compactness_mean', 'compactness_se'], axis=1)"
   ]
  },
  {
   "cell_type": "code",
   "execution_count": 22,
   "id": "05bdeea0",
   "metadata": {},
   "outputs": [],
   "source": [
    "# retrain the model\n",
    "rfc = RandomForestClassifier(random_state=0)\n",
    "# fit the model\n",
    "rfc.fit(X_train_mod, y_train)\n",
    "# Predict the Test set results\n",
    "y_pred = rfc.predict(X_test_mod)"
   ]
  },
  {
   "cell_type": "code",
   "execution_count": 23,
   "id": "37ca7fe9",
   "metadata": {},
   "outputs": [
    {
     "name": "stdout",
     "output_type": "stream",
     "text": [
      "Accuracy Score: 95.74%\n",
      "_______________________________________________\n",
      "Confusion Matrix: \n",
      "               precision    recall  f1-score   support\n",
      "\n",
      "           0       0.96      0.98      0.97       121\n",
      "           1       0.95      0.93      0.94        67\n",
      "\n",
      "    accuracy                           0.96       188\n",
      "   macro avg       0.96      0.95      0.95       188\n",
      "weighted avg       0.96      0.96      0.96       188\n",
      "\n",
      "\n"
     ]
    }
   ],
   "source": [
    "print(f\"Accuracy Score: {accuracy_score(y_test, y_pred) * 100:.2f}%\")\n",
    "print(\"_______________________________________________\")\n",
    "print(f\"Confusion Matrix: \\n {classification_report(y_test, y_pred)}\\n\")"
   ]
  },
  {
   "cell_type": "markdown",
   "id": "04ba87a3",
   "metadata": {},
   "source": [
    "We can see that the accuracy of the model has slightly increased from the previous prediction"
   ]
  },
  {
   "cell_type": "markdown",
   "id": "4dca6acc",
   "metadata": {},
   "source": [
    "### KNeighborsClassifier"
   ]
  },
  {
   "cell_type": "code",
   "execution_count": 24,
   "id": "af178383",
   "metadata": {},
   "outputs": [],
   "source": [
    "knnc = KNeighborsClassifier(n_neighbors=20)\n",
    "# fit the model\n",
    "knnc.fit(X_train, y_train)\n",
    "# Predict the Test set results\n",
    "y_pred = knnc.predict(X_test)"
   ]
  },
  {
   "cell_type": "code",
   "execution_count": 25,
   "id": "084798be",
   "metadata": {},
   "outputs": [
    {
     "name": "stdout",
     "output_type": "stream",
     "text": [
      "Accuracy Score: 95.74%\n",
      "_______________________________________________\n",
      "Confusion Matrix: \n",
      "               precision    recall  f1-score   support\n",
      "\n",
      "           0       0.94      0.99      0.97       121\n",
      "           1       0.98      0.90      0.94        67\n",
      "\n",
      "    accuracy                           0.96       188\n",
      "   macro avg       0.96      0.94      0.95       188\n",
      "weighted avg       0.96      0.96      0.96       188\n",
      "\n",
      "\n"
     ]
    }
   ],
   "source": [
    "print(f\"Accuracy Score: {accuracy_score(y_test, y_pred) * 100:.2f}%\")\n",
    "print(\"_______________________________________________\")\n",
    "print(f\"Confusion Matrix: \\n {classification_report(y_test, y_pred)}\\n\")"
   ]
  },
  {
   "cell_type": "markdown",
   "id": "b7442073",
   "metadata": {},
   "source": [
    "### LogisticRegression"
   ]
  },
  {
   "cell_type": "code",
   "execution_count": 26,
   "id": "0582f052",
   "metadata": {},
   "outputs": [],
   "source": [
    "sc=StandardScaler()\n",
    "X_train_std=sc.fit_transform(X_train)\n",
    "X_test_std=sc.transform(X_test)"
   ]
  },
  {
   "cell_type": "code",
   "execution_count": 27,
   "id": "f2a6c14e",
   "metadata": {},
   "outputs": [],
   "source": [
    "lgc = LogisticRegression(random_state=0, max_iter=100)\n",
    "# fit the model\n",
    "lgc.fit(X_train_std, y_train)\n",
    "# Predict the Test set results\n",
    "y_pred = lgc.predict(X_test_std)"
   ]
  },
  {
   "cell_type": "code",
   "execution_count": 28,
   "id": "ab983f94",
   "metadata": {},
   "outputs": [
    {
     "name": "stdout",
     "output_type": "stream",
     "text": [
      "Accuracy Score: 97.87%\n",
      "_______________________________________________\n",
      "Confusion Matrix: \n",
      "               precision    recall  f1-score   support\n",
      "\n",
      "           0       0.99      0.98      0.98       121\n",
      "           1       0.96      0.99      0.97        67\n",
      "\n",
      "    accuracy                           0.98       188\n",
      "   macro avg       0.97      0.98      0.98       188\n",
      "weighted avg       0.98      0.98      0.98       188\n",
      "\n",
      "\n"
     ]
    }
   ],
   "source": [
    "print(f\"Accuracy Score: {accuracy_score(y_test, y_pred) * 100:.2f}%\")\n",
    "print(\"_______________________________________________\")\n",
    "print(f\"Confusion Matrix: \\n {classification_report(y_test, y_pred)}\\n\")"
   ]
  },
  {
   "cell_type": "markdown",
   "id": "809987aa",
   "metadata": {},
   "source": [
    "## **3. Clustering**"
   ]
  },
  {
   "cell_type": "markdown",
   "id": "53733382",
   "metadata": {},
   "source": [
    "For the clustering, we decided to use only texture_mean and concavity_mean for easy visualisation"
   ]
  },
  {
   "cell_type": "code",
   "execution_count": 29,
   "id": "8eac10ae",
   "metadata": {},
   "outputs": [],
   "source": [
    "X_C = X[['texture_mean', 'concavity_mean']]"
   ]
  },
  {
   "cell_type": "code",
   "execution_count": 30,
   "id": "73af436f",
   "metadata": {},
   "outputs": [
    {
     "data": {
      "text/html": [
       "<div>\n",
       "<style scoped>\n",
       "    .dataframe tbody tr th:only-of-type {\n",
       "        vertical-align: middle;\n",
       "    }\n",
       "\n",
       "    .dataframe tbody tr th {\n",
       "        vertical-align: top;\n",
       "    }\n",
       "\n",
       "    .dataframe thead th {\n",
       "        text-align: right;\n",
       "    }\n",
       "</style>\n",
       "<table border=\"1\" class=\"dataframe\">\n",
       "  <thead>\n",
       "    <tr style=\"text-align: right;\">\n",
       "      <th></th>\n",
       "      <th>texture_mean</th>\n",
       "      <th>concavity_mean</th>\n",
       "    </tr>\n",
       "  </thead>\n",
       "  <tbody>\n",
       "    <tr>\n",
       "      <th>0</th>\n",
       "      <td>10.38</td>\n",
       "      <td>0.3001</td>\n",
       "    </tr>\n",
       "    <tr>\n",
       "      <th>1</th>\n",
       "      <td>17.77</td>\n",
       "      <td>0.0869</td>\n",
       "    </tr>\n",
       "    <tr>\n",
       "      <th>2</th>\n",
       "      <td>21.25</td>\n",
       "      <td>0.1974</td>\n",
       "    </tr>\n",
       "    <tr>\n",
       "      <th>3</th>\n",
       "      <td>20.38</td>\n",
       "      <td>0.2414</td>\n",
       "    </tr>\n",
       "    <tr>\n",
       "      <th>4</th>\n",
       "      <td>14.34</td>\n",
       "      <td>0.1980</td>\n",
       "    </tr>\n",
       "  </tbody>\n",
       "</table>\n",
       "</div>"
      ],
      "text/plain": [
       "   texture_mean  concavity_mean\n",
       "0         10.38          0.3001\n",
       "1         17.77          0.0869\n",
       "2         21.25          0.1974\n",
       "3         20.38          0.2414\n",
       "4         14.34          0.1980"
      ]
     },
     "execution_count": 30,
     "metadata": {},
     "output_type": "execute_result"
    }
   ],
   "source": [
    "X_C.head()"
   ]
  },
  {
   "cell_type": "code",
   "execution_count": 31,
   "id": "75089c4a",
   "metadata": {},
   "outputs": [
    {
     "name": "stderr",
     "output_type": "stream",
     "text": [
      "D:\\anaconda3\\lib\\site-packages\\sklearn\\cluster\\_kmeans.py:1036: UserWarning: KMeans is known to have a memory leak on Windows with MKL, when there are less chunks than available threads. You can avoid it by setting the environment variable OMP_NUM_THREADS=3.\n",
      "  warnings.warn(\n"
     ]
    }
   ],
   "source": [
    "# Using the elbow method to find the optimal number of clusters\n",
    "from sklearn.cluster import KMeans\n",
    "wcss = []\n",
    "for i in range(1, 11):\n",
    "    kmeans = KMeans(n_clusters = i, init = 'k-means++', random_state = 42)\n",
    "    kmeans.fit(X_C)\n",
    "    # inertia method returns wcss for that model\n",
    "    wcss.append(kmeans.inertia_)"
   ]
  },
  {
   "cell_type": "code",
   "execution_count": 32,
   "id": "63360acb",
   "metadata": {},
   "outputs": [
    {
     "name": "stderr",
     "output_type": "stream",
     "text": [
      "D:\\anaconda3\\lib\\site-packages\\seaborn\\_decorators.py:36: FutureWarning: Pass the following variables as keyword args: x, y. From version 0.12, the only valid positional argument will be `data`, and passing other arguments without an explicit keyword will result in an error or misinterpretation.\n",
      "  warnings.warn(\n"
     ]
    },
    {
     "data": {
      "image/png": "[encoded data removed]",
      "text/plain": [
       "<Figure size 720x360 with 1 Axes>"
      ]
     },
     "metadata": {
      "needs_background": "light"
     },
     "output_type": "display_data"
    }
   ],
   "source": [
    "plt.figure(figsize=(10,5))\n",
    "sns.lineplot(range(1, 11), wcss,marker='o',color='red')\n",
    "plt.title('The Elbow Method')\n",
    "plt.xlabel('Number of clusters')\n",
    "plt.ylabel('WCSS')\n",
    "plt.show()"
   ]
  },
  {
   "cell_type": "code",
   "execution_count": 33,
   "id": "fa121af4",
   "metadata": {},
   "outputs": [
    {
     "name": "stdout",
     "output_type": "stream",
     "text": [
      "Requirement already satisfied: kneed in d:\\anaconda3\\lib\\site-packages (0.8.3)\n",
      "Requirement already satisfied: scipy>=1.0.0 in d:\\anaconda3\\lib\\site-packages (from kneed) (1.7.3)\n",
      "Requirement already satisfied: numpy>=1.14.2 in d:\\anaconda3\\lib\\site-packages (from kneed) (1.21.5)\n",
      "Note: you may need to restart the kernel to use updated packages.\n"
     ]
    }
   ],
   "source": [
    "pip install kneed\n"
   ]
  },
  {
   "cell_type": "code",
   "execution_count": 34,
   "id": "8c56c5e1",
   "metadata": {},
   "outputs": [
    {
     "data": {
      "text/plain": [
       "3"
      ]
     },
     "execution_count": 34,
     "metadata": {},
     "output_type": "execute_result"
    }
   ],
   "source": [
    "from kneed import KneeLocator\n",
    "k = KneeLocator(range(1, 11), wcss, curve=\"convex\", direction=\"decreasing\")\n",
    "k.elbow\n"
   ]
  },
  {
   "cell_type": "code",
   "execution_count": 35,
   "id": "57218ca4",
   "metadata": {},
   "outputs": [],
   "source": [
    "# Fitting K-Means to the dataset\n",
    "kmeans = KMeans(n_clusters = 3, init = 'k-means++', random_state = 42)\n",
    "y_kmeans = kmeans.fit_predict(X_C)"
   ]
  },
  {
   "cell_type": "code",
   "execution_count": 36,
   "id": "71731245",
   "metadata": {},
   "outputs": [
    {
     "data": {
      "text/html": [
       "<div>\n",
       "<style scoped>\n",
       "    .dataframe tbody tr th:only-of-type {\n",
       "        vertical-align: middle;\n",
       "    }\n",
       "\n",
       "    .dataframe tbody tr th {\n",
       "        vertical-align: top;\n",
       "    }\n",
       "\n",
       "    .dataframe thead th {\n",
       "        text-align: right;\n",
       "    }\n",
       "</style>\n",
       "<table border=\"1\" class=\"dataframe\">\n",
       "  <thead>\n",
       "    <tr style=\"text-align: right;\">\n",
       "      <th></th>\n",
       "      <th>texture_mean</th>\n",
       "      <th>concavity_mean</th>\n",
       "    </tr>\n",
       "  </thead>\n",
       "  <tbody>\n",
       "    <tr>\n",
       "      <th>0</th>\n",
       "      <td>10.38</td>\n",
       "      <td>0.30010</td>\n",
       "    </tr>\n",
       "    <tr>\n",
       "      <th>1</th>\n",
       "      <td>17.77</td>\n",
       "      <td>0.08690</td>\n",
       "    </tr>\n",
       "    <tr>\n",
       "      <th>2</th>\n",
       "      <td>21.25</td>\n",
       "      <td>0.19740</td>\n",
       "    </tr>\n",
       "    <tr>\n",
       "      <th>3</th>\n",
       "      <td>20.38</td>\n",
       "      <td>0.24140</td>\n",
       "    </tr>\n",
       "    <tr>\n",
       "      <th>4</th>\n",
       "      <td>14.34</td>\n",
       "      <td>0.19800</td>\n",
       "    </tr>\n",
       "    <tr>\n",
       "      <th>...</th>\n",
       "      <td>...</td>\n",
       "      <td>...</td>\n",
       "    </tr>\n",
       "    <tr>\n",
       "      <th>564</th>\n",
       "      <td>22.39</td>\n",
       "      <td>0.24390</td>\n",
       "    </tr>\n",
       "    <tr>\n",
       "      <th>565</th>\n",
       "      <td>28.25</td>\n",
       "      <td>0.14400</td>\n",
       "    </tr>\n",
       "    <tr>\n",
       "      <th>566</th>\n",
       "      <td>28.08</td>\n",
       "      <td>0.09251</td>\n",
       "    </tr>\n",
       "    <tr>\n",
       "      <th>567</th>\n",
       "      <td>29.33</td>\n",
       "      <td>0.35140</td>\n",
       "    </tr>\n",
       "    <tr>\n",
       "      <th>568</th>\n",
       "      <td>24.54</td>\n",
       "      <td>0.00000</td>\n",
       "    </tr>\n",
       "  </tbody>\n",
       "</table>\n",
       "<p>569 rows × 2 columns</p>\n",
       "</div>"
      ],
      "text/plain": [
       "     texture_mean  concavity_mean\n",
       "0           10.38         0.30010\n",
       "1           17.77         0.08690\n",
       "2           21.25         0.19740\n",
       "3           20.38         0.24140\n",
       "4           14.34         0.19800\n",
       "..            ...             ...\n",
       "564         22.39         0.24390\n",
       "565         28.25         0.14400\n",
       "566         28.08         0.09251\n",
       "567         29.33         0.35140\n",
       "568         24.54         0.00000\n",
       "\n",
       "[569 rows x 2 columns]"
      ]
     },
     "execution_count": 36,
     "metadata": {},
     "output_type": "execute_result"
    }
   ],
   "source": [
    "X_C"
   ]
  },
  {
   "cell_type": "code",
   "execution_count": 37,
   "id": "35a715db",
   "metadata": {},
   "outputs": [
    {
     "name": "stderr",
     "output_type": "stream",
     "text": [
      "C:\\Users\\Dell\\AppData\\Local\\Temp\\ipykernel_3044\\4020080534.py:1: SettingWithCopyWarning: \n",
      "A value is trying to be set on a copy of a slice from a DataFrame.\n",
      "Try using .loc[row_indexer,col_indexer] = value instead\n",
      "\n",
      "See the caveats in the documentation: https://pandas.pydata.org/pandas-docs/stable/user_guide/indexing.html#returning-a-view-versus-a-copy\n",
      "  X_C[\"Clusters\"] = y_kmeans\n"
     ]
    }
   ],
   "source": [
    "X_C[\"Clusters\"] = y_kmeans"
   ]
  },
  {
   "cell_type": "code",
   "execution_count": 38,
   "id": "4ebe36b4",
   "metadata": {},
   "outputs": [
    {
     "data": {
      "text/plain": [
       "array([1, 0, 0, 0, 1, 1, 0, 0, 0, 2, 0, 0, 2, 2, 0, 2, 0, 0, 0, 1, 1, 1,\n",
       "       1, 0, 0, 1, 0, 0, 2, 1, 2, 0, 2, 2, 0, 0, 0, 0, 2, 0, 0, 0, 2, 0,\n",
       "       0, 1, 1, 0, 1, 0, 0, 1, 0, 0, 0, 0, 0, 0, 0, 1, 1, 0, 0, 1, 2, 2,\n",
       "       0, 0, 1, 1, 0, 1, 2, 1, 1, 0, 1, 1, 2, 0, 0, 1, 2, 2, 1, 0, 0, 2,\n",
       "       0, 1, 2, 0, 1, 0, 0, 0, 0, 0, 1, 0, 2, 1, 0, 0, 0, 1, 0, 0, 0, 0,\n",
       "       1, 0, 0, 0, 1, 0, 1, 1, 0, 0, 1, 1, 0, 1, 1, 1, 2, 0, 1, 2, 1, 0,\n",
       "       0, 1, 0, 0, 1, 1, 1, 1, 1, 0, 1, 1, 1, 1, 1, 0, 1, 0, 0, 0, 1, 1,\n",
       "       1, 0, 0, 0, 1, 1, 0, 1, 0, 0, 0, 0, 1, 0, 2, 1, 1, 0, 1, 1, 1, 1,\n",
       "       0, 0, 0, 1, 0, 2, 0, 1, 0, 1, 0, 1, 1, 1, 0, 0, 0, 2, 0, 1, 0, 0,\n",
       "       0, 0, 0, 0, 2, 2, 0, 1, 1, 0, 0, 1, 0, 0, 0, 2, 2, 1, 0, 1, 0, 2,\n",
       "       1, 1, 1, 0, 1, 1, 1, 1, 2, 0, 0, 2, 2, 2, 1, 0, 2, 0, 2, 2, 1, 1,\n",
       "       0, 2, 2, 0, 1, 1, 2, 1, 2, 0, 0, 1, 0, 1, 2, 1, 0, 2, 2, 0, 0, 0,\n",
       "       0, 2, 0, 0, 1, 0, 1, 1, 0, 1, 2, 1, 1, 0, 0, 1, 2, 1, 0, 0, 1, 0,\n",
       "       0, 1, 0, 0, 0, 0, 1, 1, 1, 1, 1, 0, 0, 0, 0, 0, 2, 0, 0, 2, 1, 1,\n",
       "       1, 1, 0, 1, 1, 1, 0, 1, 1, 0, 0, 1, 1, 0, 1, 0, 1, 1, 1, 0, 0, 0,\n",
       "       1, 0, 0, 1, 0, 0, 1, 0, 1, 2, 1, 1, 1, 0, 1, 1, 0, 1, 1, 1, 1, 0,\n",
       "       1, 2, 1, 0, 0, 1, 1, 0, 0, 0, 0, 0, 1, 0, 2, 0, 1, 0, 0, 1, 1, 1,\n",
       "       1, 1, 0, 2, 1, 0, 1, 1, 0, 1, 1, 0, 1, 1, 1, 0, 1, 1, 0, 0, 1, 1,\n",
       "       0, 1, 1, 1, 0, 1, 0, 1, 1, 0, 1, 0, 0, 0, 1, 1, 0, 0, 2, 0, 0, 0,\n",
       "       1, 0, 0, 1, 1, 0, 0, 0, 1, 0, 1, 1, 0, 1, 0, 0, 1, 0, 0, 1, 0, 1,\n",
       "       1, 2, 1, 0, 1, 2, 2, 1, 0, 0, 0, 2, 2, 1, 1, 2, 2, 2, 2, 2, 2, 2,\n",
       "       2, 0, 0, 0, 0, 0, 0, 0, 0, 2, 1, 2, 1, 1, 0, 1, 1, 0, 0, 0, 1, 1,\n",
       "       1, 1, 1, 0, 1, 0, 0, 1, 0, 1, 0, 0, 0, 1, 1, 0, 1, 2, 1, 0, 1, 1,\n",
       "       0, 1, 1, 2, 1, 1, 0, 1, 0, 0, 0, 0, 0, 1, 1, 0, 0, 0, 1, 1, 0, 1,\n",
       "       1, 1, 1, 0, 1, 0, 1, 0, 0, 2, 2, 2, 1, 2, 2, 2, 0, 0, 1, 1, 0, 2,\n",
       "       0, 0, 2, 0, 2, 2, 0, 2, 0, 2, 2, 2, 2, 2, 0, 2, 2, 2, 2])"
      ]
     },
     "execution_count": 38,
     "metadata": {},
     "output_type": "execute_result"
    }
   ],
   "source": [
    "y_kmeans"
   ]
  },
  {
   "cell_type": "code",
   "execution_count": 39,
   "id": "d85731a3",
   "metadata": {},
   "outputs": [
    {
     "data": {
      "image/png": "[encoded data removed]",
      "text/plain": [
       "<Figure size 720x432 with 1 Axes>"
      ]
     },
     "metadata": {
      "needs_background": "light"
     },
     "output_type": "display_data"
    }
   ],
   "source": [
    "import matplotlib.pyplot as plt\n",
    "plt.figure(figsize=(10,6))\n",
    "\n",
    "# Sample data\n",
    "x = X_C['texture_mean']\n",
    "y = X_C['concavity_mean']\n",
    "classes = y_kmeans # Class labels for each point\n",
    "\n",
    "# Assign colors to each class\n",
    "colors = ['r', 'g', 'b', 'y', 'brown']\n",
    "color_map = {k: colors[i] for i, k in enumerate(set(classes))}\n",
    "\n",
    "# Plot each point with the corresponding color\n",
    "for i in range(len(x)):\n",
    "    plt.scatter(x[i], y[i], color=color_map[classes[i]])\n",
    "\n",
    "# Add legend\n",
    "handles = [plt.plot([], [], color=color_map[i], marker=\"o\", ls=\"\", markersize=8)[0] for i in color_map]\n",
    "labels = [f\"Class {i}\" for i in color_map]\n",
    "plt.legend(handles, labels, loc=\"lower right\")\n",
    "\n",
    "# Set plot title and axis labels\n",
    "plt.title('Scatter plot by class')\n",
    "plt.xlabel('X-axis')\n",
    "plt.ylabel('Y-axis')\n",
    "\n",
    "# Show plot\n",
    "plt.show()\n"
   ]
  },
  {
   "cell_type": "code",
   "execution_count": 40,
   "id": "e3a970f0",
   "metadata": {},
   "outputs": [
    {
     "data": {
      "image/png": "[encoded data removed]",
      "text/plain": [
       "<Figure size 720x432 with 1 Axes>"
      ]
     },
     "metadata": {
      "needs_background": "light"
     },
     "output_type": "display_data"
    }
   ],
   "source": [
    "import matplotlib.pyplot as plt\n",
    "from sklearn.preprocessing import StandardScaler\n",
    "\n",
    "# Sample data\n",
    "x = X_C['texture_mean']\n",
    "y = X_C['concavity_mean']\n",
    "classes = y_kmeans # Class labels for each point\n",
    "\n",
    "# Apply StandardScaler to x and y\n",
    "scaler = StandardScaler()\n",
    "x_scaled = scaler.fit_transform(x.values.reshape(-1,1)).flatten()\n",
    "y_scaled = scaler.fit_transform(y.values.reshape(-1,1)).flatten()\n",
    "\n",
    "# Assign colors to each class\n",
    "colors = ['r', 'g', 'b', 'y', 'brown']\n",
    "color_map = {k: colors[i] for i, k in enumerate(set(classes))}\n",
    "\n",
    "# Plot each point with the corresponding color\n",
    "fig, ax = plt.subplots(figsize=(10, 6))\n",
    "for i in range(len(x)):\n",
    "    ax.scatter(x_scaled[i], y_scaled[i], color=color_map[classes[i]])\n",
    "\n",
    "# Add legend\n",
    "handles = [ax.plot([], [], color=color_map[i], marker=\"o\", ls=\"\", markersize=8)[0] for i in color_map]\n",
    "labels = [f\"Class {i}\" for i in color_map]\n",
    "ax.legend(handles, labels, loc=\"lower right\")\n",
    "\n",
    "# Set plot title and axis labels\n",
    "ax.set_title('Scatter plot by class')\n",
    "ax.set_xlabel('X-axis')\n",
    "ax.set_ylabel('Y-axis')\n",
    "\n",
    "# Show plot\n",
    "plt.show()\n"
   ]
  },
  {
   "cell_type": "code",
   "execution_count": null,
   "id": "b3e28d85",
   "metadata": {},
   "outputs": [],
   "source": []
  },
  {
   "cell_type": "markdown",
   "id": "a334b2f2",
   "metadata": {},
   "source": [
    "# profiling"
   ]
  },
  {
   "cell_type": "code",
   "execution_count": 41,
   "id": "c649b246",
   "metadata": {},
   "outputs": [
    {
     "data": {
      "text/html": [
       "<div>\n",
       "<style scoped>\n",
       "    .dataframe tbody tr th:only-of-type {\n",
       "        vertical-align: middle;\n",
       "    }\n",
       "\n",
       "    .dataframe tbody tr th {\n",
       "        vertical-align: top;\n",
       "    }\n",
       "\n",
       "    .dataframe thead th {\n",
       "        text-align: right;\n",
       "    }\n",
       "</style>\n",
       "<table border=\"1\" class=\"dataframe\">\n",
       "  <thead>\n",
       "    <tr style=\"text-align: right;\">\n",
       "      <th></th>\n",
       "      <th>texture_mean</th>\n",
       "      <th>concavity_mean</th>\n",
       "      <th>Clusters</th>\n",
       "      <th>Cluster</th>\n",
       "    </tr>\n",
       "  </thead>\n",
       "  <tbody>\n",
       "    <tr>\n",
       "      <th>0</th>\n",
       "      <td>10.38</td>\n",
       "      <td>0.3001</td>\n",
       "      <td>1</td>\n",
       "      <td>1</td>\n",
       "    </tr>\n",
       "    <tr>\n",
       "      <th>1</th>\n",
       "      <td>17.77</td>\n",
       "      <td>0.0869</td>\n",
       "      <td>0</td>\n",
       "      <td>0</td>\n",
       "    </tr>\n",
       "    <tr>\n",
       "      <th>2</th>\n",
       "      <td>21.25</td>\n",
       "      <td>0.1974</td>\n",
       "      <td>0</td>\n",
       "      <td>0</td>\n",
       "    </tr>\n",
       "    <tr>\n",
       "      <th>3</th>\n",
       "      <td>20.38</td>\n",
       "      <td>0.2414</td>\n",
       "      <td>0</td>\n",
       "      <td>0</td>\n",
       "    </tr>\n",
       "    <tr>\n",
       "      <th>4</th>\n",
       "      <td>14.34</td>\n",
       "      <td>0.1980</td>\n",
       "      <td>1</td>\n",
       "      <td>1</td>\n",
       "    </tr>\n",
       "  </tbody>\n",
       "</table>\n",
       "</div>"
      ],
      "text/plain": [
       "   texture_mean  concavity_mean  Clusters  Cluster\n",
       "0         10.38          0.3001         1        1\n",
       "1         17.77          0.0869         0        0\n",
       "2         21.25          0.1974         0        0\n",
       "3         20.38          0.2414         0        0\n",
       "4         14.34          0.1980         1        1"
      ]
     },
     "execution_count": 41,
     "metadata": {},
     "output_type": "execute_result"
    }
   ],
   "source": [
    "dataset_cluster = pd.concat([X_C, pd.DataFrame({'Cluster': y_kmeans})], axis=1)\n",
    "dataset_cluster.head()"
   ]
  },
  {
   "cell_type": "code",
   "execution_count": 42,
   "id": "94bec94c",
   "metadata": {},
   "outputs": [
    {
     "data": {
      "text/html": [
       "<div>\n",
       "<style scoped>\n",
       "    .dataframe tbody tr th:only-of-type {\n",
       "        vertical-align: middle;\n",
       "    }\n",
       "\n",
       "    .dataframe tbody tr th {\n",
       "        vertical-align: top;\n",
       "    }\n",
       "\n",
       "    .dataframe thead th {\n",
       "        text-align: right;\n",
       "    }\n",
       "</style>\n",
       "<table border=\"1\" class=\"dataframe\">\n",
       "  <thead>\n",
       "    <tr style=\"text-align: right;\">\n",
       "      <th></th>\n",
       "      <th>texture_mean</th>\n",
       "      <th>concavity_mean</th>\n",
       "    </tr>\n",
       "  </thead>\n",
       "  <tbody>\n",
       "    <tr>\n",
       "      <th>0</th>\n",
       "      <td>10.38</td>\n",
       "      <td>0.3001</td>\n",
       "    </tr>\n",
       "    <tr>\n",
       "      <th>1</th>\n",
       "      <td>17.77</td>\n",
       "      <td>0.0869</td>\n",
       "    </tr>\n",
       "    <tr>\n",
       "      <th>2</th>\n",
       "      <td>21.25</td>\n",
       "      <td>0.1974</td>\n",
       "    </tr>\n",
       "    <tr>\n",
       "      <th>3</th>\n",
       "      <td>20.38</td>\n",
       "      <td>0.2414</td>\n",
       "    </tr>\n",
       "    <tr>\n",
       "      <th>4</th>\n",
       "      <td>14.34</td>\n",
       "      <td>0.1980</td>\n",
       "    </tr>\n",
       "  </tbody>\n",
       "</table>\n",
       "</div>"
      ],
      "text/plain": [
       "   texture_mean  concavity_mean\n",
       "0         10.38          0.3001\n",
       "1         17.77          0.0869\n",
       "2         21.25          0.1974\n",
       "3         20.38          0.2414\n",
       "4         14.34          0.1980"
      ]
     },
     "execution_count": 42,
     "metadata": {},
     "output_type": "execute_result"
    }
   ],
   "source": [
    "x1 = dataset_cluster.iloc[:,0:2]\n",
    "x1.head()"
   ]
  },
  {
   "cell_type": "code",
   "execution_count": 43,
   "id": "16ba40ca",
   "metadata": {},
   "outputs": [
    {
     "data": {
      "text/html": [
       "<div>\n",
       "<style scoped>\n",
       "    .dataframe tbody tr th:only-of-type {\n",
       "        vertical-align: middle;\n",
       "    }\n",
       "\n",
       "    .dataframe tbody tr th {\n",
       "        vertical-align: top;\n",
       "    }\n",
       "\n",
       "    .dataframe thead th {\n",
       "        text-align: right;\n",
       "    }\n",
       "</style>\n",
       "<table border=\"1\" class=\"dataframe\">\n",
       "  <thead>\n",
       "    <tr style=\"text-align: right;\">\n",
       "      <th></th>\n",
       "      <th>Clusters</th>\n",
       "    </tr>\n",
       "  </thead>\n",
       "  <tbody>\n",
       "    <tr>\n",
       "      <th>0</th>\n",
       "      <td>1</td>\n",
       "    </tr>\n",
       "    <tr>\n",
       "      <th>1</th>\n",
       "      <td>0</td>\n",
       "    </tr>\n",
       "    <tr>\n",
       "      <th>2</th>\n",
       "      <td>0</td>\n",
       "    </tr>\n",
       "    <tr>\n",
       "      <th>3</th>\n",
       "      <td>0</td>\n",
       "    </tr>\n",
       "    <tr>\n",
       "      <th>4</th>\n",
       "      <td>1</td>\n",
       "    </tr>\n",
       "  </tbody>\n",
       "</table>\n",
       "</div>"
      ],
      "text/plain": [
       "   Clusters\n",
       "0         1\n",
       "1         0\n",
       "2         0\n",
       "3         0\n",
       "4         1"
      ]
     },
     "execution_count": 43,
     "metadata": {},
     "output_type": "execute_result"
    }
   ],
   "source": [
    "y1 = dataset_cluster.iloc[:,2:3]\n",
    "y1.head()"
   ]
  },
  {
   "cell_type": "code",
   "execution_count": 44,
   "id": "f6792b66",
   "metadata": {},
   "outputs": [
    {
     "data": {
      "text/html": [
       "<div>\n",
       "<style scoped>\n",
       "    .dataframe tbody tr th:only-of-type {\n",
       "        vertical-align: middle;\n",
       "    }\n",
       "\n",
       "    .dataframe tbody tr th {\n",
       "        vertical-align: top;\n",
       "    }\n",
       "\n",
       "    .dataframe thead th {\n",
       "        text-align: right;\n",
       "    }\n",
       "</style>\n",
       "<table border=\"1\" class=\"dataframe\">\n",
       "  <thead>\n",
       "    <tr style=\"text-align: right;\">\n",
       "      <th></th>\n",
       "      <th>Clusters</th>\n",
       "    </tr>\n",
       "  </thead>\n",
       "  <tbody>\n",
       "    <tr>\n",
       "      <th>0</th>\n",
       "      <td>1</td>\n",
       "    </tr>\n",
       "    <tr>\n",
       "      <th>1</th>\n",
       "      <td>0</td>\n",
       "    </tr>\n",
       "    <tr>\n",
       "      <th>2</th>\n",
       "      <td>0</td>\n",
       "    </tr>\n",
       "    <tr>\n",
       "      <th>3</th>\n",
       "      <td>0</td>\n",
       "    </tr>\n",
       "    <tr>\n",
       "      <th>4</th>\n",
       "      <td>1</td>\n",
       "    </tr>\n",
       "    <tr>\n",
       "      <th>...</th>\n",
       "      <td>...</td>\n",
       "    </tr>\n",
       "    <tr>\n",
       "      <th>564</th>\n",
       "      <td>0</td>\n",
       "    </tr>\n",
       "    <tr>\n",
       "      <th>565</th>\n",
       "      <td>2</td>\n",
       "    </tr>\n",
       "    <tr>\n",
       "      <th>566</th>\n",
       "      <td>2</td>\n",
       "    </tr>\n",
       "    <tr>\n",
       "      <th>567</th>\n",
       "      <td>2</td>\n",
       "    </tr>\n",
       "    <tr>\n",
       "      <th>568</th>\n",
       "      <td>2</td>\n",
       "    </tr>\n",
       "  </tbody>\n",
       "</table>\n",
       "<p>569 rows × 1 columns</p>\n",
       "</div>"
      ],
      "text/plain": [
       "     Clusters\n",
       "0           1\n",
       "1           0\n",
       "2           0\n",
       "3           0\n",
       "4           1\n",
       "..        ...\n",
       "564         0\n",
       "565         2\n",
       "566         2\n",
       "567         2\n",
       "568         2\n",
       "\n",
       "[569 rows x 1 columns]"
      ]
     },
     "execution_count": 44,
     "metadata": {},
     "output_type": "execute_result"
    }
   ],
   "source": [
    "y1"
   ]
  },
  {
   "cell_type": "code",
   "execution_count": 45,
   "id": "5de537e2",
   "metadata": {},
   "outputs": [
    {
     "name": "stdout",
     "output_type": "stream",
     "text": [
      "Requirement already satisfied: graphviz in d:\\anaconda3\\lib\\site-packages (0.20.1)\n",
      "Note: you may need to restart the kernel to use updated packages.\n"
     ]
    }
   ],
   "source": [
    "pip install graphviz\n"
   ]
  },
  {
   "cell_type": "code",
   "execution_count": 46,
   "id": "8d8ebaf3",
   "metadata": {},
   "outputs": [
    {
     "name": "stdout",
     "output_type": "stream",
     "text": [
      "Requirement already satisfied: ipython in d:\\anaconda3\\lib\\site-packages (8.2.0)\n",
      "Requirement already satisfied: traitlets>=5 in d:\\anaconda3\\lib\\site-packages (from ipython) (5.1.1)\n",
      "Requirement already satisfied: backcall in d:\\anaconda3\\lib\\site-packages (from ipython) (0.2.0)\n",
      "Requirement already satisfied: pickleshare in d:\\anaconda3\\lib\\site-packages (from ipython) (0.7.5)\n",
      "Requirement already satisfied: decorator in d:\\anaconda3\\lib\\site-packages (from ipython) (5.1.1)\n",
      "Requirement already satisfied: colorama in d:\\anaconda3\\lib\\site-packages (from ipython) (0.4.4)\n",
      "Requirement already satisfied: prompt-toolkit!=3.0.0,!=3.0.1,<3.1.0,>=2.0.0 in d:\\anaconda3\\lib\\site-packages (from ipython) (3.0.20)\n",
      "Requirement already satisfied: setuptools>=18.5 in d:\\anaconda3\\lib\\site-packages (from ipython) (61.2.0)\n",
      "Requirement already satisfied: jedi>=0.16 in d:\\anaconda3\\lib\\site-packages (from ipython) (0.18.1)\n",
      "Requirement already satisfied: pygments>=2.4.0 in d:\\anaconda3\\lib\\site-packages (from ipython) (2.11.2)\n",
      "Requirement already satisfied: matplotlib-inline in d:\\anaconda3\\lib\\site-packages (from ipython) (0.1.2)\n",
      "Requirement already satisfied: stack-data in d:\\anaconda3\\lib\\site-packages (from ipython) (0.2.0)\n",
      "Requirement already satisfied: parso<0.9.0,>=0.8.0 in d:\\anaconda3\\lib\\site-packages (from jedi>=0.16->ipython) (0.8.3)\n",
      "Requirement already satisfied: wcwidth in d:\\anaconda3\\lib\\site-packages (from prompt-toolkit!=3.0.0,!=3.0.1,<3.1.0,>=2.0.0->ipython) (0.2.5)\n",
      "Requirement already satisfied: pure-eval in d:\\anaconda3\\lib\\site-packages (from stack-data->ipython) (0.2.2)\n",
      "Requirement already satisfied: executing in d:\\anaconda3\\lib\\site-packages (from stack-data->ipython) (0.8.3)\n",
      "Requirement already satisfied: asttokens in d:\\anaconda3\\lib\\site-packages (from stack-data->ipython) (2.0.5)\n",
      "Requirement already satisfied: six in d:\\anaconda3\\lib\\site-packages (from asttokens->stack-data->ipython) (1.16.0)\n",
      "Note: you may need to restart the kernel to use updated packages.\n"
     ]
    }
   ],
   "source": [
    "pip install ipython"
   ]
  },
  {
   "cell_type": "code",
   "execution_count": 47,
   "id": "96467bf0",
   "metadata": {},
   "outputs": [
    {
     "data": {
      "text/plain": [
       "DecisionTreeClassifier(max_depth=5)"
      ]
     },
     "execution_count": 47,
     "metadata": {},
     "output_type": "execute_result"
    }
   ],
   "source": [
    "import graphviz\n",
    "from sklearn import tree\n",
    "from sklearn.tree import export_graphviz, DecisionTreeClassifier\n",
    "model = DecisionTreeClassifier(max_depth = 5)\n",
    "model.fit(x1,y1)"
   ]
  },
  {
   "cell_type": "code",
   "execution_count": 48,
   "id": "4e39da2b",
   "metadata": {},
   "outputs": [],
   "source": [
    "col_names = ['texture_mean', 'concavity_mean']"
   ]
  },
  {
   "cell_type": "code",
   "execution_count": 49,
   "id": "12601722",
   "metadata": {},
   "outputs": [],
   "source": [
    "tree.export_graphviz(model,feature_names = col_names,\\\n",
    "                    out_file = 'tree.dot',\\\n",
    "                    label = 'all',\\\n",
    "                    filled = True,\\\n",
    "                    rounded = True)"
   ]
  },
  {
   "cell_type": "code",
   "execution_count": 50,
   "id": "86b67200",
   "metadata": {},
   "outputs": [
    {
     "ename": "ExecutableNotFound",
     "evalue": "failed to execute WindowsPath('dot'), make sure the Graphviz executables are on your systems' PATH",
     "output_type": "error",
     "traceback": [
      "\u001b[1;31m---------------------------------------------------------------------------\u001b[0m",
      "\u001b[1;31mFileNotFoundError\u001b[0m                         Traceback (most recent call last)",
      "File \u001b[1;32mD:\\anaconda3\\lib\\site-packages\\graphviz\\backend\\execute.py:79\u001b[0m, in \u001b[0;36mrun_check\u001b[1;34m(cmd, input_lines, encoding, quiet, **kwargs)\u001b[0m\n\u001b[0;32m     78\u001b[0m         kwargs[\u001b[38;5;124m'\u001b[39m\u001b[38;5;124mstdout\u001b[39m\u001b[38;5;124m'\u001b[39m] \u001b[38;5;241m=\u001b[39m kwargs[\u001b[38;5;124m'\u001b[39m\u001b[38;5;124mstderr\u001b[39m\u001b[38;5;124m'\u001b[39m] \u001b[38;5;241m=\u001b[39m subprocess\u001b[38;5;241m.\u001b[39mPIPE\n\u001b[1;32m---> 79\u001b[0m     proc \u001b[38;5;241m=\u001b[39m \u001b[43m_run_input_lines\u001b[49m\u001b[43m(\u001b[49m\u001b[43mcmd\u001b[49m\u001b[43m,\u001b[49m\u001b[43m \u001b[49m\u001b[43minput_lines\u001b[49m\u001b[43m,\u001b[49m\u001b[43m \u001b[49m\u001b[43mkwargs\u001b[49m\u001b[38;5;241;43m=\u001b[39;49m\u001b[43mkwargs\u001b[49m\u001b[43m)\u001b[49m\n\u001b[0;32m     80\u001b[0m \u001b[38;5;28;01melse\u001b[39;00m:\n",
      "File \u001b[1;32mD:\\anaconda3\\lib\\site-packages\\graphviz\\backend\\execute.py:99\u001b[0m, in \u001b[0;36m_run_input_lines\u001b[1;34m(cmd, input_lines, kwargs)\u001b[0m\n\u001b[0;32m     98\u001b[0m \u001b[38;5;28;01mdef\u001b[39;00m \u001b[38;5;21m_run_input_lines\u001b[39m(cmd, input_lines, \u001b[38;5;241m*\u001b[39m, kwargs):\n\u001b[1;32m---> 99\u001b[0m     popen \u001b[38;5;241m=\u001b[39m subprocess\u001b[38;5;241m.\u001b[39mPopen(cmd, stdin\u001b[38;5;241m=\u001b[39msubprocess\u001b[38;5;241m.\u001b[39mPIPE, \u001b[38;5;241m*\u001b[39m\u001b[38;5;241m*\u001b[39mkwargs)\n\u001b[0;32m    101\u001b[0m     stdin_write \u001b[38;5;241m=\u001b[39m popen\u001b[38;5;241m.\u001b[39mstdin\u001b[38;5;241m.\u001b[39mwrite\n",
      "File \u001b[1;32mD:\\anaconda3\\lib\\subprocess.py:951\u001b[0m, in \u001b[0;36mPopen.__init__\u001b[1;34m(self, args, bufsize, executable, stdin, stdout, stderr, preexec_fn, close_fds, shell, cwd, env, universal_newlines, startupinfo, creationflags, restore_signals, start_new_session, pass_fds, user, group, extra_groups, encoding, errors, text, umask)\u001b[0m\n\u001b[0;32m    948\u001b[0m             \u001b[38;5;28mself\u001b[39m\u001b[38;5;241m.\u001b[39mstderr \u001b[38;5;241m=\u001b[39m io\u001b[38;5;241m.\u001b[39mTextIOWrapper(\u001b[38;5;28mself\u001b[39m\u001b[38;5;241m.\u001b[39mstderr,\n\u001b[0;32m    949\u001b[0m                     encoding\u001b[38;5;241m=\u001b[39mencoding, errors\u001b[38;5;241m=\u001b[39merrors)\n\u001b[1;32m--> 951\u001b[0m     \u001b[38;5;28;43mself\u001b[39;49m\u001b[38;5;241;43m.\u001b[39;49m\u001b[43m_execute_child\u001b[49m\u001b[43m(\u001b[49m\u001b[43margs\u001b[49m\u001b[43m,\u001b[49m\u001b[43m \u001b[49m\u001b[43mexecutable\u001b[49m\u001b[43m,\u001b[49m\u001b[43m \u001b[49m\u001b[43mpreexec_fn\u001b[49m\u001b[43m,\u001b[49m\u001b[43m \u001b[49m\u001b[43mclose_fds\u001b[49m\u001b[43m,\u001b[49m\n\u001b[0;32m    952\u001b[0m \u001b[43m                        \u001b[49m\u001b[43mpass_fds\u001b[49m\u001b[43m,\u001b[49m\u001b[43m \u001b[49m\u001b[43mcwd\u001b[49m\u001b[43m,\u001b[49m\u001b[43m \u001b[49m\u001b[43menv\u001b[49m\u001b[43m,\u001b[49m\n\u001b[0;32m    953\u001b[0m \u001b[43m                        \u001b[49m\u001b[43mstartupinfo\u001b[49m\u001b[43m,\u001b[49m\u001b[43m \u001b[49m\u001b[43mcreationflags\u001b[49m\u001b[43m,\u001b[49m\u001b[43m \u001b[49m\u001b[43mshell\u001b[49m\u001b[43m,\u001b[49m\n\u001b[0;32m    954\u001b[0m \u001b[43m                        \u001b[49m\u001b[43mp2cread\u001b[49m\u001b[43m,\u001b[49m\u001b[43m \u001b[49m\u001b[43mp2cwrite\u001b[49m\u001b[43m,\u001b[49m\n\u001b[0;32m    955\u001b[0m \u001b[43m                        \u001b[49m\u001b[43mc2pread\u001b[49m\u001b[43m,\u001b[49m\u001b[43m \u001b[49m\u001b[43mc2pwrite\u001b[49m\u001b[43m,\u001b[49m\n\u001b[0;32m    956\u001b[0m \u001b[43m                        \u001b[49m\u001b[43merrread\u001b[49m\u001b[43m,\u001b[49m\u001b[43m \u001b[49m\u001b[43merrwrite\u001b[49m\u001b[43m,\u001b[49m\n\u001b[0;32m    957\u001b[0m \u001b[43m                        \u001b[49m\u001b[43mrestore_signals\u001b[49m\u001b[43m,\u001b[49m\n\u001b[0;32m    958\u001b[0m \u001b[43m                        \u001b[49m\u001b[43mgid\u001b[49m\u001b[43m,\u001b[49m\u001b[43m \u001b[49m\u001b[43mgids\u001b[49m\u001b[43m,\u001b[49m\u001b[43m \u001b[49m\u001b[43muid\u001b[49m\u001b[43m,\u001b[49m\u001b[43m \u001b[49m\u001b[43mumask\u001b[49m\u001b[43m,\u001b[49m\n\u001b[0;32m    959\u001b[0m \u001b[43m                        \u001b[49m\u001b[43mstart_new_session\u001b[49m\u001b[43m)\u001b[49m\n\u001b[0;32m    960\u001b[0m \u001b[38;5;28;01mexcept\u001b[39;00m:\n\u001b[0;32m    961\u001b[0m     \u001b[38;5;66;03m# Cleanup if the child failed starting.\u001b[39;00m\n",
      "File \u001b[1;32mD:\\anaconda3\\lib\\subprocess.py:1420\u001b[0m, in \u001b[0;36mPopen._execute_child\u001b[1;34m(self, args, executable, preexec_fn, close_fds, pass_fds, cwd, env, startupinfo, creationflags, shell, p2cread, p2cwrite, c2pread, c2pwrite, errread, errwrite, unused_restore_signals, unused_gid, unused_gids, unused_uid, unused_umask, unused_start_new_session)\u001b[0m\n\u001b[0;32m   1419\u001b[0m \u001b[38;5;28;01mtry\u001b[39;00m:\n\u001b[1;32m-> 1420\u001b[0m     hp, ht, pid, tid \u001b[38;5;241m=\u001b[39m \u001b[43m_winapi\u001b[49m\u001b[38;5;241;43m.\u001b[39;49m\u001b[43mCreateProcess\u001b[49m\u001b[43m(\u001b[49m\u001b[43mexecutable\u001b[49m\u001b[43m,\u001b[49m\u001b[43m \u001b[49m\u001b[43margs\u001b[49m\u001b[43m,\u001b[49m\n\u001b[0;32m   1421\u001b[0m \u001b[43m                             \u001b[49m\u001b[38;5;66;43;03m# no special security\u001b[39;49;00m\n\u001b[0;32m   1422\u001b[0m \u001b[43m                             \u001b[49m\u001b[38;5;28;43;01mNone\u001b[39;49;00m\u001b[43m,\u001b[49m\u001b[43m \u001b[49m\u001b[38;5;28;43;01mNone\u001b[39;49;00m\u001b[43m,\u001b[49m\n\u001b[0;32m   1423\u001b[0m \u001b[43m                             \u001b[49m\u001b[38;5;28;43mint\u001b[39;49m\u001b[43m(\u001b[49m\u001b[38;5;129;43;01mnot\u001b[39;49;00m\u001b[43m \u001b[49m\u001b[43mclose_fds\u001b[49m\u001b[43m)\u001b[49m\u001b[43m,\u001b[49m\n\u001b[0;32m   1424\u001b[0m \u001b[43m                             \u001b[49m\u001b[43mcreationflags\u001b[49m\u001b[43m,\u001b[49m\n\u001b[0;32m   1425\u001b[0m \u001b[43m                             \u001b[49m\u001b[43menv\u001b[49m\u001b[43m,\u001b[49m\n\u001b[0;32m   1426\u001b[0m \u001b[43m                             \u001b[49m\u001b[43mcwd\u001b[49m\u001b[43m,\u001b[49m\n\u001b[0;32m   1427\u001b[0m \u001b[43m                             \u001b[49m\u001b[43mstartupinfo\u001b[49m\u001b[43m)\u001b[49m\n\u001b[0;32m   1428\u001b[0m \u001b[38;5;28;01mfinally\u001b[39;00m:\n\u001b[0;32m   1429\u001b[0m     \u001b[38;5;66;03m# Child is launched. Close the parent's copy of those pipe\u001b[39;00m\n\u001b[0;32m   1430\u001b[0m     \u001b[38;5;66;03m# handles that only the child should have open.  You need\u001b[39;00m\n\u001b[1;32m   (...)\u001b[0m\n\u001b[0;32m   1433\u001b[0m     \u001b[38;5;66;03m# pipe will not close when the child process exits and the\u001b[39;00m\n\u001b[0;32m   1434\u001b[0m     \u001b[38;5;66;03m# ReadFile will hang.\u001b[39;00m\n",
      "\u001b[1;31mFileNotFoundError\u001b[0m: [WinError 2] Le fichier spécifié est introuvable",
      "\nThe above exception was the direct cause of the following exception:\n",
      "\u001b[1;31mExecutableNotFound\u001b[0m                        Traceback (most recent call last)",
      "File \u001b[1;32mD:\\anaconda3\\lib\\site-packages\\IPython\\core\\formatters.py:973\u001b[0m, in \u001b[0;36mMimeBundleFormatter.__call__\u001b[1;34m(self, obj, include, exclude)\u001b[0m\n\u001b[0;32m    970\u001b[0m     method \u001b[38;5;241m=\u001b[39m get_real_method(obj, \u001b[38;5;28mself\u001b[39m\u001b[38;5;241m.\u001b[39mprint_method)\n\u001b[0;32m    972\u001b[0m     \u001b[38;5;28;01mif\u001b[39;00m method \u001b[38;5;129;01mis\u001b[39;00m \u001b[38;5;129;01mnot\u001b[39;00m \u001b[38;5;28;01mNone\u001b[39;00m:\n\u001b[1;32m--> 973\u001b[0m         \u001b[38;5;28;01mreturn\u001b[39;00m \u001b[43mmethod\u001b[49m\u001b[43m(\u001b[49m\u001b[43minclude\u001b[49m\u001b[38;5;241;43m=\u001b[39;49m\u001b[43minclude\u001b[49m\u001b[43m,\u001b[49m\u001b[43m \u001b[49m\u001b[43mexclude\u001b[49m\u001b[38;5;241;43m=\u001b[39;49m\u001b[43mexclude\u001b[49m\u001b[43m)\u001b[49m\n\u001b[0;32m    974\u001b[0m     \u001b[38;5;28;01mreturn\u001b[39;00m \u001b[38;5;28;01mNone\u001b[39;00m\n\u001b[0;32m    975\u001b[0m \u001b[38;5;28;01melse\u001b[39;00m:\n",
      "File \u001b[1;32mD:\\anaconda3\\lib\\site-packages\\graphviz\\jupyter_integration.py:98\u001b[0m, in \u001b[0;36mJupyterIntegration._repr_mimebundle_\u001b[1;34m(self, include, exclude, **_)\u001b[0m\n\u001b[0;32m     96\u001b[0m include \u001b[38;5;241m=\u001b[39m \u001b[38;5;28mset\u001b[39m(include) \u001b[38;5;28;01mif\u001b[39;00m include \u001b[38;5;129;01mis\u001b[39;00m \u001b[38;5;129;01mnot\u001b[39;00m \u001b[38;5;28;01mNone\u001b[39;00m \u001b[38;5;28;01melse\u001b[39;00m {\u001b[38;5;28mself\u001b[39m\u001b[38;5;241m.\u001b[39m_jupyter_mimetype}\n\u001b[0;32m     97\u001b[0m include \u001b[38;5;241m-\u001b[39m\u001b[38;5;241m=\u001b[39m \u001b[38;5;28mset\u001b[39m(exclude \u001b[38;5;129;01mor\u001b[39;00m [])\n\u001b[1;32m---> 98\u001b[0m \u001b[38;5;28;01mreturn\u001b[39;00m {mimetype: \u001b[38;5;28mgetattr\u001b[39m(\u001b[38;5;28mself\u001b[39m, method_name)()\n\u001b[0;32m     99\u001b[0m         \u001b[38;5;28;01mfor\u001b[39;00m mimetype, method_name \u001b[38;5;129;01min\u001b[39;00m MIME_TYPES\u001b[38;5;241m.\u001b[39mitems()\n\u001b[0;32m    100\u001b[0m         \u001b[38;5;28;01mif\u001b[39;00m mimetype \u001b[38;5;129;01min\u001b[39;00m include}\n",
      "File \u001b[1;32mD:\\anaconda3\\lib\\site-packages\\graphviz\\jupyter_integration.py:98\u001b[0m, in \u001b[0;36m<dictcomp>\u001b[1;34m(.0)\u001b[0m\n\u001b[0;32m     96\u001b[0m include \u001b[38;5;241m=\u001b[39m \u001b[38;5;28mset\u001b[39m(include) \u001b[38;5;28;01mif\u001b[39;00m include \u001b[38;5;129;01mis\u001b[39;00m \u001b[38;5;129;01mnot\u001b[39;00m \u001b[38;5;28;01mNone\u001b[39;00m \u001b[38;5;28;01melse\u001b[39;00m {\u001b[38;5;28mself\u001b[39m\u001b[38;5;241m.\u001b[39m_jupyter_mimetype}\n\u001b[0;32m     97\u001b[0m include \u001b[38;5;241m-\u001b[39m\u001b[38;5;241m=\u001b[39m \u001b[38;5;28mset\u001b[39m(exclude \u001b[38;5;129;01mor\u001b[39;00m [])\n\u001b[1;32m---> 98\u001b[0m \u001b[38;5;28;01mreturn\u001b[39;00m {mimetype: \u001b[38;5;28;43mgetattr\u001b[39;49m\u001b[43m(\u001b[49m\u001b[38;5;28;43mself\u001b[39;49m\u001b[43m,\u001b[49m\u001b[43m \u001b[49m\u001b[43mmethod_name\u001b[49m\u001b[43m)\u001b[49m\u001b[43m(\u001b[49m\u001b[43m)\u001b[49m\n\u001b[0;32m     99\u001b[0m         \u001b[38;5;28;01mfor\u001b[39;00m mimetype, method_name \u001b[38;5;129;01min\u001b[39;00m MIME_TYPES\u001b[38;5;241m.\u001b[39mitems()\n\u001b[0;32m    100\u001b[0m         \u001b[38;5;28;01mif\u001b[39;00m mimetype \u001b[38;5;129;01min\u001b[39;00m include}\n",
      "File \u001b[1;32mD:\\anaconda3\\lib\\site-packages\\graphviz\\jupyter_integration.py:112\u001b[0m, in \u001b[0;36mJupyterIntegration._repr_image_svg_xml\u001b[1;34m(self)\u001b[0m\n\u001b[0;32m    110\u001b[0m \u001b[38;5;28;01mdef\u001b[39;00m \u001b[38;5;21m_repr_image_svg_xml\u001b[39m(\u001b[38;5;28mself\u001b[39m) \u001b[38;5;241m-\u001b[39m\u001b[38;5;241m>\u001b[39m \u001b[38;5;28mstr\u001b[39m:\n\u001b[0;32m    111\u001b[0m     \u001b[38;5;124;03m\"\"\"Return the rendered graph as SVG string.\"\"\"\u001b[39;00m\n\u001b[1;32m--> 112\u001b[0m     \u001b[38;5;28;01mreturn\u001b[39;00m \u001b[38;5;28;43mself\u001b[39;49m\u001b[38;5;241;43m.\u001b[39;49m\u001b[43mpipe\u001b[49m\u001b[43m(\u001b[49m\u001b[38;5;28;43mformat\u001b[39;49m\u001b[38;5;241;43m=\u001b[39;49m\u001b[38;5;124;43m'\u001b[39;49m\u001b[38;5;124;43msvg\u001b[39;49m\u001b[38;5;124;43m'\u001b[39;49m\u001b[43m,\u001b[49m\u001b[43m \u001b[49m\u001b[43mencoding\u001b[49m\u001b[38;5;241;43m=\u001b[39;49m\u001b[43mSVG_ENCODING\u001b[49m\u001b[43m)\u001b[49m\n",
      "File \u001b[1;32mD:\\anaconda3\\lib\\site-packages\\graphviz\\piping.py:104\u001b[0m, in \u001b[0;36mPipe.pipe\u001b[1;34m(self, format, renderer, formatter, neato_no_op, quiet, engine, encoding)\u001b[0m\n\u001b[0;32m     55\u001b[0m \u001b[38;5;28;01mdef\u001b[39;00m \u001b[38;5;21mpipe\u001b[39m(\u001b[38;5;28mself\u001b[39m,\n\u001b[0;32m     56\u001b[0m          \u001b[38;5;28mformat\u001b[39m: typing\u001b[38;5;241m.\u001b[39mOptional[\u001b[38;5;28mstr\u001b[39m] \u001b[38;5;241m=\u001b[39m \u001b[38;5;28;01mNone\u001b[39;00m,\n\u001b[0;32m     57\u001b[0m          renderer: typing\u001b[38;5;241m.\u001b[39mOptional[\u001b[38;5;28mstr\u001b[39m] \u001b[38;5;241m=\u001b[39m \u001b[38;5;28;01mNone\u001b[39;00m,\n\u001b[1;32m   (...)\u001b[0m\n\u001b[0;32m     61\u001b[0m          engine: typing\u001b[38;5;241m.\u001b[39mOptional[\u001b[38;5;28mstr\u001b[39m] \u001b[38;5;241m=\u001b[39m \u001b[38;5;28;01mNone\u001b[39;00m,\n\u001b[0;32m     62\u001b[0m          encoding: typing\u001b[38;5;241m.\u001b[39mOptional[\u001b[38;5;28mstr\u001b[39m] \u001b[38;5;241m=\u001b[39m \u001b[38;5;28;01mNone\u001b[39;00m) \u001b[38;5;241m-\u001b[39m\u001b[38;5;241m>\u001b[39m typing\u001b[38;5;241m.\u001b[39mUnion[\u001b[38;5;28mbytes\u001b[39m, \u001b[38;5;28mstr\u001b[39m]:\n\u001b[0;32m     63\u001b[0m     \u001b[38;5;124;03m\"\"\"Return the source piped through the Graphviz layout command.\u001b[39;00m\n\u001b[0;32m     64\u001b[0m \n\u001b[0;32m     65\u001b[0m \u001b[38;5;124;03m    Args:\u001b[39;00m\n\u001b[1;32m   (...)\u001b[0m\n\u001b[0;32m    102\u001b[0m \u001b[38;5;124;03m        '<?xml version='\u001b[39;00m\n\u001b[0;32m    103\u001b[0m \u001b[38;5;124;03m    \"\"\"\u001b[39;00m\n\u001b[1;32m--> 104\u001b[0m     \u001b[38;5;28;01mreturn\u001b[39;00m \u001b[38;5;28;43mself\u001b[39;49m\u001b[38;5;241;43m.\u001b[39;49m\u001b[43m_pipe_legacy\u001b[49m\u001b[43m(\u001b[49m\u001b[38;5;28;43mformat\u001b[39;49m\u001b[43m,\u001b[49m\n\u001b[0;32m    105\u001b[0m \u001b[43m                             \u001b[49m\u001b[43mrenderer\u001b[49m\u001b[38;5;241;43m=\u001b[39;49m\u001b[43mrenderer\u001b[49m\u001b[43m,\u001b[49m\n\u001b[0;32m    106\u001b[0m \u001b[43m                             \u001b[49m\u001b[43mformatter\u001b[49m\u001b[38;5;241;43m=\u001b[39;49m\u001b[43mformatter\u001b[49m\u001b[43m,\u001b[49m\n\u001b[0;32m    107\u001b[0m \u001b[43m                             \u001b[49m\u001b[43mneato_no_op\u001b[49m\u001b[38;5;241;43m=\u001b[39;49m\u001b[43mneato_no_op\u001b[49m\u001b[43m,\u001b[49m\n\u001b[0;32m    108\u001b[0m \u001b[43m                             \u001b[49m\u001b[43mquiet\u001b[49m\u001b[38;5;241;43m=\u001b[39;49m\u001b[43mquiet\u001b[49m\u001b[43m,\u001b[49m\n\u001b[0;32m    109\u001b[0m \u001b[43m                             \u001b[49m\u001b[43mengine\u001b[49m\u001b[38;5;241;43m=\u001b[39;49m\u001b[43mengine\u001b[49m\u001b[43m,\u001b[49m\n\u001b[0;32m    110\u001b[0m \u001b[43m                             \u001b[49m\u001b[43mencoding\u001b[49m\u001b[38;5;241;43m=\u001b[39;49m\u001b[43mencoding\u001b[49m\u001b[43m)\u001b[49m\n",
      "File \u001b[1;32mD:\\anaconda3\\lib\\site-packages\\graphviz\\_tools.py:171\u001b[0m, in \u001b[0;36mdeprecate_positional_args.<locals>.decorator.<locals>.wrapper\u001b[1;34m(*args, **kwargs)\u001b[0m\n\u001b[0;32m    162\u001b[0m     wanted \u001b[38;5;241m=\u001b[39m \u001b[38;5;124m'\u001b[39m\u001b[38;5;124m, \u001b[39m\u001b[38;5;124m'\u001b[39m\u001b[38;5;241m.\u001b[39mjoin(\u001b[38;5;124mf\u001b[39m\u001b[38;5;124m'\u001b[39m\u001b[38;5;132;01m{\u001b[39;00mname\u001b[38;5;132;01m}\u001b[39;00m\u001b[38;5;124m=\u001b[39m\u001b[38;5;132;01m{\u001b[39;00mvalue\u001b[38;5;132;01m!r}\u001b[39;00m\u001b[38;5;124m'\u001b[39m\n\u001b[0;32m    163\u001b[0m                        \u001b[38;5;28;01mfor\u001b[39;00m name, value \u001b[38;5;129;01min\u001b[39;00m deprecated\u001b[38;5;241m.\u001b[39mitems())\n\u001b[0;32m    164\u001b[0m     warnings\u001b[38;5;241m.\u001b[39mwarn(\u001b[38;5;124mf\u001b[39m\u001b[38;5;124m'\u001b[39m\u001b[38;5;124mThe signature of \u001b[39m\u001b[38;5;132;01m{\u001b[39;00mfunc\u001b[38;5;241m.\u001b[39m\u001b[38;5;18m__name__\u001b[39m\u001b[38;5;132;01m}\u001b[39;00m\u001b[38;5;124m will be reduced\u001b[39m\u001b[38;5;124m'\u001b[39m\n\u001b[0;32m    165\u001b[0m                   \u001b[38;5;124mf\u001b[39m\u001b[38;5;124m'\u001b[39m\u001b[38;5;124m to \u001b[39m\u001b[38;5;132;01m{\u001b[39;00msupported_number\u001b[38;5;132;01m}\u001b[39;00m\u001b[38;5;124m positional args\u001b[39m\u001b[38;5;124m'\u001b[39m\n\u001b[0;32m    166\u001b[0m                   \u001b[38;5;124mf\u001b[39m\u001b[38;5;124m'\u001b[39m\u001b[38;5;124m \u001b[39m\u001b[38;5;132;01m{\u001b[39;00m\u001b[38;5;28mlist\u001b[39m(supported)\u001b[38;5;132;01m}\u001b[39;00m\u001b[38;5;124m: pass \u001b[39m\u001b[38;5;132;01m{\u001b[39;00mwanted\u001b[38;5;132;01m}\u001b[39;00m\u001b[38;5;124m'\u001b[39m\n\u001b[0;32m    167\u001b[0m                   \u001b[38;5;124m'\u001b[39m\u001b[38;5;124m as keyword arg(s)\u001b[39m\u001b[38;5;124m'\u001b[39m,\n\u001b[0;32m    168\u001b[0m                   stacklevel\u001b[38;5;241m=\u001b[39mstacklevel,\n\u001b[0;32m    169\u001b[0m                   category\u001b[38;5;241m=\u001b[39mcategory)\n\u001b[1;32m--> 171\u001b[0m \u001b[38;5;28;01mreturn\u001b[39;00m func(\u001b[38;5;241m*\u001b[39margs, \u001b[38;5;241m*\u001b[39m\u001b[38;5;241m*\u001b[39mkwargs)\n",
      "File \u001b[1;32mD:\\anaconda3\\lib\\site-packages\\graphviz\\piping.py:121\u001b[0m, in \u001b[0;36mPipe._pipe_legacy\u001b[1;34m(self, format, renderer, formatter, neato_no_op, quiet, engine, encoding)\u001b[0m\n\u001b[0;32m    112\u001b[0m \u001b[38;5;129m@_tools\u001b[39m\u001b[38;5;241m.\u001b[39mdeprecate_positional_args(supported_number\u001b[38;5;241m=\u001b[39m\u001b[38;5;241m2\u001b[39m)\n\u001b[0;32m    113\u001b[0m \u001b[38;5;28;01mdef\u001b[39;00m \u001b[38;5;21m_pipe_legacy\u001b[39m(\u001b[38;5;28mself\u001b[39m,\n\u001b[0;32m    114\u001b[0m                  \u001b[38;5;28mformat\u001b[39m: typing\u001b[38;5;241m.\u001b[39mOptional[\u001b[38;5;28mstr\u001b[39m] \u001b[38;5;241m=\u001b[39m \u001b[38;5;28;01mNone\u001b[39;00m,\n\u001b[1;32m   (...)\u001b[0m\n\u001b[0;32m    119\u001b[0m                  engine: typing\u001b[38;5;241m.\u001b[39mOptional[\u001b[38;5;28mstr\u001b[39m] \u001b[38;5;241m=\u001b[39m \u001b[38;5;28;01mNone\u001b[39;00m,\n\u001b[0;32m    120\u001b[0m                  encoding: typing\u001b[38;5;241m.\u001b[39mOptional[\u001b[38;5;28mstr\u001b[39m] \u001b[38;5;241m=\u001b[39m \u001b[38;5;28;01mNone\u001b[39;00m) \u001b[38;5;241m-\u001b[39m\u001b[38;5;241m>\u001b[39m typing\u001b[38;5;241m.\u001b[39mUnion[\u001b[38;5;28mbytes\u001b[39m, \u001b[38;5;28mstr\u001b[39m]:\n\u001b[1;32m--> 121\u001b[0m     \u001b[38;5;28;01mreturn\u001b[39;00m \u001b[38;5;28;43mself\u001b[39;49m\u001b[38;5;241;43m.\u001b[39;49m\u001b[43m_pipe_future\u001b[49m\u001b[43m(\u001b[49m\u001b[38;5;28;43mformat\u001b[39;49m\u001b[43m,\u001b[49m\n\u001b[0;32m    122\u001b[0m \u001b[43m                             \u001b[49m\u001b[43mrenderer\u001b[49m\u001b[38;5;241;43m=\u001b[39;49m\u001b[43mrenderer\u001b[49m\u001b[43m,\u001b[49m\n\u001b[0;32m    123\u001b[0m \u001b[43m                             \u001b[49m\u001b[43mformatter\u001b[49m\u001b[38;5;241;43m=\u001b[39;49m\u001b[43mformatter\u001b[49m\u001b[43m,\u001b[49m\n\u001b[0;32m    124\u001b[0m \u001b[43m                             \u001b[49m\u001b[43mneato_no_op\u001b[49m\u001b[38;5;241;43m=\u001b[39;49m\u001b[43mneato_no_op\u001b[49m\u001b[43m,\u001b[49m\n\u001b[0;32m    125\u001b[0m \u001b[43m                             \u001b[49m\u001b[43mquiet\u001b[49m\u001b[38;5;241;43m=\u001b[39;49m\u001b[43mquiet\u001b[49m\u001b[43m,\u001b[49m\n\u001b[0;32m    126\u001b[0m \u001b[43m                             \u001b[49m\u001b[43mengine\u001b[49m\u001b[38;5;241;43m=\u001b[39;49m\u001b[43mengine\u001b[49m\u001b[43m,\u001b[49m\n\u001b[0;32m    127\u001b[0m \u001b[43m                             \u001b[49m\u001b[43mencoding\u001b[49m\u001b[38;5;241;43m=\u001b[39;49m\u001b[43mencoding\u001b[49m\u001b[43m)\u001b[49m\n",
      "File \u001b[1;32mD:\\anaconda3\\lib\\site-packages\\graphviz\\piping.py:149\u001b[0m, in \u001b[0;36mPipe._pipe_future\u001b[1;34m(self, format, renderer, formatter, neato_no_op, quiet, engine, encoding)\u001b[0m\n\u001b[0;32m    146\u001b[0m \u001b[38;5;28;01mif\u001b[39;00m encoding \u001b[38;5;129;01mis\u001b[39;00m \u001b[38;5;129;01mnot\u001b[39;00m \u001b[38;5;28;01mNone\u001b[39;00m:\n\u001b[0;32m    147\u001b[0m     \u001b[38;5;28;01mif\u001b[39;00m codecs\u001b[38;5;241m.\u001b[39mlookup(encoding) \u001b[38;5;129;01mis\u001b[39;00m codecs\u001b[38;5;241m.\u001b[39mlookup(\u001b[38;5;28mself\u001b[39m\u001b[38;5;241m.\u001b[39mencoding):\n\u001b[0;32m    148\u001b[0m         \u001b[38;5;66;03m# common case: both stdin and stdout need the same encoding\u001b[39;00m\n\u001b[1;32m--> 149\u001b[0m         \u001b[38;5;28;01mreturn\u001b[39;00m \u001b[38;5;28mself\u001b[39m\u001b[38;5;241m.\u001b[39m_pipe_lines_string(\u001b[38;5;241m*\u001b[39margs, encoding\u001b[38;5;241m=\u001b[39mencoding, \u001b[38;5;241m*\u001b[39m\u001b[38;5;241m*\u001b[39mkwargs)\n\u001b[0;32m    150\u001b[0m     \u001b[38;5;28;01mtry\u001b[39;00m:\n\u001b[0;32m    151\u001b[0m         raw \u001b[38;5;241m=\u001b[39m \u001b[38;5;28mself\u001b[39m\u001b[38;5;241m.\u001b[39m_pipe_lines(\u001b[38;5;241m*\u001b[39margs, input_encoding\u001b[38;5;241m=\u001b[39m\u001b[38;5;28mself\u001b[39m\u001b[38;5;241m.\u001b[39mencoding, \u001b[38;5;241m*\u001b[39m\u001b[38;5;241m*\u001b[39mkwargs)\n",
      "File \u001b[1;32mD:\\anaconda3\\lib\\site-packages\\graphviz\\backend\\piping.py:212\u001b[0m, in \u001b[0;36mpipe_lines_string\u001b[1;34m(engine, format, input_lines, encoding, renderer, formatter, neato_no_op, quiet)\u001b[0m\n\u001b[0;32m    206\u001b[0m cmd \u001b[38;5;241m=\u001b[39m dot_command\u001b[38;5;241m.\u001b[39mcommand(engine, \u001b[38;5;28mformat\u001b[39m,\n\u001b[0;32m    207\u001b[0m                           renderer\u001b[38;5;241m=\u001b[39mrenderer,\n\u001b[0;32m    208\u001b[0m                           formatter\u001b[38;5;241m=\u001b[39mformatter,\n\u001b[0;32m    209\u001b[0m                           neato_no_op\u001b[38;5;241m=\u001b[39mneato_no_op)\n\u001b[0;32m    210\u001b[0m kwargs \u001b[38;5;241m=\u001b[39m {\u001b[38;5;124m'\u001b[39m\u001b[38;5;124minput_lines\u001b[39m\u001b[38;5;124m'\u001b[39m: input_lines, \u001b[38;5;124m'\u001b[39m\u001b[38;5;124mencoding\u001b[39m\u001b[38;5;124m'\u001b[39m: encoding}\n\u001b[1;32m--> 212\u001b[0m proc \u001b[38;5;241m=\u001b[39m execute\u001b[38;5;241m.\u001b[39mrun_check(cmd, capture_output\u001b[38;5;241m=\u001b[39m\u001b[38;5;28;01mTrue\u001b[39;00m, quiet\u001b[38;5;241m=\u001b[39mquiet, \u001b[38;5;241m*\u001b[39m\u001b[38;5;241m*\u001b[39mkwargs)\n\u001b[0;32m    213\u001b[0m \u001b[38;5;28;01mreturn\u001b[39;00m proc\u001b[38;5;241m.\u001b[39mstdout\n",
      "File \u001b[1;32mD:\\anaconda3\\lib\\site-packages\\graphviz\\backend\\execute.py:84\u001b[0m, in \u001b[0;36mrun_check\u001b[1;34m(cmd, input_lines, encoding, quiet, **kwargs)\u001b[0m\n\u001b[0;32m     82\u001b[0m \u001b[38;5;28;01mexcept\u001b[39;00m \u001b[38;5;167;01mOSError\u001b[39;00m \u001b[38;5;28;01mas\u001b[39;00m e:\n\u001b[0;32m     83\u001b[0m     \u001b[38;5;28;01mif\u001b[39;00m e\u001b[38;5;241m.\u001b[39merrno \u001b[38;5;241m==\u001b[39m errno\u001b[38;5;241m.\u001b[39mENOENT:\n\u001b[1;32m---> 84\u001b[0m         \u001b[38;5;28;01mraise\u001b[39;00m ExecutableNotFound(cmd) \u001b[38;5;28;01mfrom\u001b[39;00m \u001b[38;5;21;01me\u001b[39;00m\n\u001b[0;32m     85\u001b[0m     \u001b[38;5;28;01mraise\u001b[39;00m\n\u001b[0;32m     87\u001b[0m \u001b[38;5;28;01mif\u001b[39;00m \u001b[38;5;129;01mnot\u001b[39;00m quiet \u001b[38;5;129;01mand\u001b[39;00m proc\u001b[38;5;241m.\u001b[39mstderr:\n",
      "\u001b[1;31mExecutableNotFound\u001b[0m: failed to execute WindowsPath('dot'), make sure the Graphviz executables are on your systems' PATH"
     ]
    },
    {
     "data": {
      "text/plain": [
       "<graphviz.sources.Source at 0x259e57df580>"
      ]
     },
     "metadata": {},
     "output_type": "display_data"
    }
   ],
   "source": [
    "from graphviz import Source\n",
    "from IPython.display import display\n",
    "\n",
    "with open('tree.dot') as f:\n",
    "    dot_graph = f.read()\n",
    "\n",
    "graph = Source(dot_graph)\n",
    "display(graph)"
   ]
  },
  {
   "cell_type": "code",
   "execution_count": 51,
   "id": "ba4ba3d3",
   "metadata": {},
   "outputs": [
    {
     "ename": "NameError",
     "evalue": "name 'Image' is not defined",
     "output_type": "error",
     "traceback": [
      "\u001b[1;31m---------------------------------------------------------------------------\u001b[0m",
      "\u001b[1;31mNameError\u001b[0m                                 Traceback (most recent call last)",
      "Input \u001b[1;32mIn [51]\u001b[0m, in \u001b[0;36m<cell line: 1>\u001b[1;34m()\u001b[0m\n\u001b[1;32m----> 1\u001b[0m \u001b[43mImage\u001b[49m(\u001b[38;5;124m'\u001b[39m\u001b[38;5;124mtree.png\u001b[39m\u001b[38;5;124m'\u001b[39m)\n",
      "\u001b[1;31mNameError\u001b[0m: name 'Image' is not defined"
     ]
    }
   ],
   "source": [
    "Image('tree.png')"
   ]
  },
  {
   "attachments": {
    "graphviz.svg": {
     "image/svg+xml": [
      "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"
     ]
    }
   },
   "cell_type": "markdown",
   "id": "43485d5c",
   "metadata": {},
   "source": [
    "![graphviz.svg](attachment:graphviz.svg)"
   ]
  },
  {
   "cell_type": "code",
   "execution_count": 61,
   "id": "1b2338eb",
   "metadata": {},
   "outputs": [
    {
     "data": {
      "image/png": "[encoded data removed]",
      "text/plain": [
       "<Figure size 432x288 with 1 Axes>"
      ]
     },
     "metadata": {
      "needs_background": "light"
     },
     "output_type": "display_data"
    }
   ],
   "source": [
    "from sklearn.cluster import AgglomerativeClustering\n",
    "import scipy.cluster.hierarchy as sch\n",
    "\n",
    "\n",
    "# Apply agglomerative clustering\n",
    "hc = AgglomerativeClustering(n_clusters=3, affinity='euclidean', linkage='ward')\n",
    "y_hc = hc.fit_predict(x1)\n",
    "\n",
    "# Generate dendrogram\n",
    "dendrogram = sch.dendrogram(sch.linkage(x1, method='ward'))\n",
    "\n",
    "# Add labels to the plot\n",
    "plt.title('Dendrogram')\n",
    "plt.xlabel('Clusters')\n",
    "plt.ylabel('Euclidean Distance')\n",
    "\n",
    "# Show the plot\n",
    "plt.show()"
   ]
  },
  {
   "cell_type": "code",
   "execution_count": 53,
   "id": "5f2957e6",
   "metadata": {},
   "outputs": [],
   "source": [
    "from sklearn.cluster import AgglomerativeClustering \n",
    "hc = AgglomerativeClustering(n_clusters=3,affinity='euclidean',linkage='ward')\n",
    "hc.fit(x1)\n",
    "y_hc = hc.labels_"
   ]
  },
  {
   "cell_type": "code",
   "execution_count": 54,
   "id": "54b4cfec",
   "metadata": {},
   "outputs": [
    {
     "data": {
      "text/plain": [
       "array([2, 1, 0, 1, 2, 1, 1, 0, 0, 0, 0, 1, 0, 0, 0, 0, 1, 0, 0, 2, 1, 2,\n",
       "       2, 0, 0, 1, 0, 1, 0, 2, 0, 1, 0, 0, 1, 0, 0, 1, 0, 0, 0, 0, 0, 1,\n",
       "       0, 1, 1, 1, 2, 0, 0, 1, 1, 1, 0, 1, 1, 0, 1, 2, 2, 0, 0, 2, 0, 0,\n",
       "       0, 1, 1, 1, 0, 2, 0, 1, 1, 1, 2, 1, 0, 1, 0, 1, 0, 0, 1, 1, 0, 0,\n",
       "       0, 2, 0, 0, 2, 1, 1, 0, 1, 1, 2, 1, 0, 2, 0, 1, 1, 1, 1, 1, 1, 0,\n",
       "       1, 0, 1, 1, 1, 0, 1, 1, 0, 1, 2, 1, 1, 2, 1, 1, 0, 1, 1, 0, 2, 1,\n",
       "       0, 2, 0, 0, 1, 1, 1, 2, 2, 1, 1, 1, 2, 2, 1, 1, 2, 1, 0, 0, 1, 2,\n",
       "       1, 1, 0, 1, 2, 2, 1, 1, 1, 0, 0, 1, 2, 1, 0, 1, 2, 1, 2, 2, 2, 2,\n",
       "       1, 1, 0, 2, 0, 0, 1, 2, 0, 2, 1, 1, 1, 1, 0, 0, 1, 0, 0, 1, 0, 0,\n",
       "       0, 1, 1, 1, 0, 0, 1, 1, 1, 1, 0, 2, 0, 1, 1, 0, 0, 1, 1, 1, 0, 0,\n",
       "       2, 2, 1, 1, 1, 2, 1, 1, 0, 0, 1, 0, 0, 0, 1, 0, 0, 0, 0, 0, 1, 2,\n",
       "       1, 0, 0, 1, 1, 2, 0, 2, 0, 1, 1, 1, 1, 1, 0, 1, 0, 0, 0, 0, 0, 1,\n",
       "       0, 0, 1, 0, 1, 1, 1, 2, 0, 1, 0, 1, 2, 1, 1, 2, 0, 2, 1, 1, 1, 1,\n",
       "       0, 2, 1, 1, 1, 1, 1, 1, 2, 2, 2, 1, 1, 0, 1, 1, 0, 1, 1, 0, 1, 2,\n",
       "       2, 2, 1, 1, 2, 2, 1, 1, 2, 1, 1, 1, 1, 1, 2, 0, 2, 1, 2, 1, 0, 0,\n",
       "       1, 1, 1, 2, 1, 0, 2, 0, 1, 0, 1, 1, 2, 0, 1, 2, 1, 2, 1, 2, 1, 1,\n",
       "       1, 0, 2, 1, 1, 1, 1, 1, 1, 0, 1, 1, 1, 0, 0, 1, 1, 0, 0, 2, 2, 1,\n",
       "       1, 1, 1, 0, 2, 1, 2, 2, 0, 1, 2, 0, 2, 1, 1, 0, 2, 1, 1, 0, 1, 1,\n",
       "       1, 1, 2, 1, 0, 2, 1, 1, 2, 1, 2, 0, 0, 1, 1, 1, 0, 0, 0, 0, 0, 0,\n",
       "       2, 0, 1, 2, 1, 1, 1, 0, 2, 0, 1, 1, 0, 1, 1, 0, 1, 1, 1, 1, 1, 1,\n",
       "       1, 0, 1, 1, 1, 0, 0, 1, 1, 0, 0, 0, 0, 2, 1, 0, 0, 0, 0, 0, 0, 0,\n",
       "       0, 1, 1, 1, 0, 1, 0, 1, 1, 0, 2, 0, 1, 1, 0, 1, 2, 1, 1, 1, 2, 1,\n",
       "       2, 1, 1, 1, 1, 1, 0, 2, 0, 2, 0, 1, 1, 1, 1, 0, 1, 0, 1, 1, 2, 2,\n",
       "       1, 1, 1, 0, 2, 2, 0, 2, 1, 1, 0, 1, 1, 1, 2, 0, 1, 1, 1, 2, 1, 2,\n",
       "       2, 2, 1, 1, 1, 0, 1, 0, 0, 0, 0, 0, 2, 0, 0, 0, 0, 0, 1, 1, 1, 0,\n",
       "       0, 0, 0, 0, 0, 0, 1, 0, 0, 0, 0, 0, 0, 0, 0, 0, 0, 0, 0],\n",
       "      dtype=int64)"
      ]
     },
     "execution_count": 54,
     "metadata": {},
     "output_type": "execute_result"
    }
   ],
   "source": [
    "y_hc"
   ]
  },
  {
   "cell_type": "code",
   "execution_count": 55,
   "id": "34b680b0",
   "metadata": {},
   "outputs": [
    {
     "ename": "InvalidIndexError",
     "evalue": "(array([False, False,  True, False, False, False, False,  True,  True,\n        True,  True, False,  True,  True,  True,  True, False,  True,\n        True, False, False, False, False,  True,  True, False,  True,\n       False,  True, False,  True, False,  True,  True, False,  True,\n        True, False,  True,  True,  True,  True,  True, False,  True,\n       False, False, False, False,  True,  True, False, False, False,\n        True, False, False,  True, False, False, False,  True,  True,\n       False,  True,  True,  True, False, False, False,  True, False,\n        True, False, False, False, False, False,  True, False,  True,\n       False,  True,  True, False, False,  True,  True,  True, False,\n        True,  True, False, False, False,  True, False, False, False,\n       False,  True, False,  True, False, False, False, False, False,\n       False,  True, False,  True, False, False, False,  True, False,\n       False,  True, False, False, False, False, False, False, False,\n        True, False, False,  True, False, False,  True, False,  True,\n        True, False, False, False, False, False, False, False, False,\n       False, False, False, False, False, False,  True,  True, False,\n       False, False, False,  True, False, False, False, False, False,\n       False,  True,  True, False, False, False,  True, False, False,\n       False, False, False, False, False, False, False,  True, False,\n        True,  True, False, False,  True, False, False, False, False,\n       False,  True,  True, False,  True,  True, False,  True,  True,\n        True, False, False, False,  True,  True, False, False, False,\n       False,  True, False,  True, False, False,  True,  True, False,\n       False, False,  True,  True, False, False, False, False, False,\n       False, False, False,  True,  True, False,  True,  True,  True,\n       False,  True,  True,  True,  True,  True, False, False, False,\n        True,  True, False, False, False,  True, False,  True, False,\n       False, False, False, False,  True, False,  True,  True,  True,\n        True,  True, False,  True,  True, False,  True, False, False,\n       False, False,  True, False,  True, False, False, False, False,\n       False,  True, False, False, False, False, False,  True, False,\n       False, False, False, False, False, False, False, False, False,\n       False, False,  True, False, False,  True, False, False,  True,\n       False, False, False, False, False, False, False, False, False,\n       False, False, False, False, False, False, False, False,  True,\n       False, False, False, False,  True,  True, False, False, False,\n       False, False,  True, False,  True, False,  True, False, False,\n       False,  True, False, False, False, False, False, False, False,\n       False, False,  True, False, False, False, False, False, False,\n       False,  True, False, False, False,  True,  True, False, False,\n        True,  True, False, False, False, False, False, False,  True,\n       False, False, False, False,  True, False, False,  True, False,\n       False, False,  True, False, False, False,  True, False, False,\n       False, False, False, False,  True, False, False, False, False,\n       False, False,  True,  True, False, False, False,  True,  True,\n        True,  True,  True,  True, False,  True, False, False, False,\n       False, False,  True, False,  True, False, False,  True, False,\n       False,  True, False, False, False, False, False, False, False,\n        True, False, False, False,  True,  True, False, False,  True,\n        True,  True,  True, False, False,  True,  True,  True,  True,\n        True,  True,  True,  True, False, False, False,  True, False,\n        True, False, False,  True, False,  True, False, False,  True,\n       False, False, False, False, False, False, False, False, False,\n       False, False, False, False,  True, False,  True, False,  True,\n       False, False, False, False,  True, False,  True, False, False,\n       False, False, False, False, False,  True, False, False,  True,\n       False, False, False,  True, False, False, False, False,  True,\n       False, False, False, False, False, False, False, False, False,\n       False, False,  True, False,  True,  True,  True,  True,  True,\n       False,  True,  True,  True,  True,  True, False, False, False,\n        True,  True,  True,  True,  True,  True,  True, False,  True,\n        True,  True,  True,  True,  True,  True,  True,  True,  True,\n        True,  True]), 0)",
     "output_type": "error",
     "traceback": [
      "\u001b[1;31m---------------------------------------------------------------------------\u001b[0m",
      "\u001b[1;31mTypeError\u001b[0m                                 Traceback (most recent call last)",
      "File \u001b[1;32mD:\\anaconda3\\lib\\site-packages\\pandas\\core\\indexes\\base.py:3621\u001b[0m, in \u001b[0;36mIndex.get_loc\u001b[1;34m(self, key, method, tolerance)\u001b[0m\n\u001b[0;32m   3620\u001b[0m \u001b[38;5;28;01mtry\u001b[39;00m:\n\u001b[1;32m-> 3621\u001b[0m     \u001b[38;5;28;01mreturn\u001b[39;00m \u001b[38;5;28;43mself\u001b[39;49m\u001b[38;5;241;43m.\u001b[39;49m\u001b[43m_engine\u001b[49m\u001b[38;5;241;43m.\u001b[39;49m\u001b[43mget_loc\u001b[49m\u001b[43m(\u001b[49m\u001b[43mcasted_key\u001b[49m\u001b[43m)\u001b[49m\n\u001b[0;32m   3622\u001b[0m \u001b[38;5;28;01mexcept\u001b[39;00m \u001b[38;5;167;01mKeyError\u001b[39;00m \u001b[38;5;28;01mas\u001b[39;00m err:\n",
      "File \u001b[1;32mD:\\anaconda3\\lib\\site-packages\\pandas\\_libs\\index.pyx:136\u001b[0m, in \u001b[0;36mpandas._libs.index.IndexEngine.get_loc\u001b[1;34m()\u001b[0m\n",
      "File \u001b[1;32mD:\\anaconda3\\lib\\site-packages\\pandas\\_libs\\index.pyx:142\u001b[0m, in \u001b[0;36mpandas._libs.index.IndexEngine.get_loc\u001b[1;34m()\u001b[0m\n",
      "\u001b[1;31mTypeError\u001b[0m: '(array([False, False,  True, False, False, False, False,  True,  True,\n        True,  True, False,  True,  True,  True,  True, False,  True,\n        True, False, False, False, False,  True,  True, False,  True,\n       False,  True, False,  True, False,  True,  True, False,  True,\n        True, False,  True,  True,  True,  True,  True, False,  True,\n       False, False, False, False,  True,  True, False, False, False,\n        True, False, False,  True, False, False, False,  True,  True,\n       False,  True,  True,  True, False, False, False,  True, False,\n        True, False, False, False, False, False,  True, False,  True,\n       False,  True,  True, False, False,  True,  True,  True, False,\n        True,  True, False, False, False,  True, False, False, False,\n       False,  True, False,  True, False, False, False, False, False,\n       False,  True, False,  True, False, False, False,  True, False,\n       False,  True, False, False, False, False, False, False, False,\n        True, False, False,  True, False, False,  True, False,  True,\n        True, False, False, False, False, False, False, False, False,\n       False, False, False, False, False, False,  True,  True, False,\n       False, False, False,  True, False, False, False, False, False,\n       False,  True,  True, False, False, False,  True, False, False,\n       False, False, False, False, False, False, False,  True, False,\n        True,  True, False, False,  True, False, False, False, False,\n       False,  True,  True, False,  True,  True, False,  True,  True,\n        True, False, False, False,  True,  True, False, False, False,\n       False,  True, False,  True, False, False,  True,  True, False,\n       False, False,  True,  True, False, False, False, False, False,\n       False, False, False,  True,  True, False,  True,  True,  True,\n       False,  True,  True,  True,  True,  True, False, False, False,\n        True,  True, False, False, False,  True, False,  True, False,\n       False, False, False, False,  True, False,  True,  True,  True,\n        True,  True, False,  True,  True, False,  True, False, False,\n       False, False,  True, False,  True, False, False, False, False,\n       False,  True, False, False, False, False, False,  True, False,\n       False, False, False, False, False, False, False, False, False,\n       False, False,  True, False, False,  True, False, False,  True,\n       False, False, False, False, False, False, False, False, False,\n       False, False, False, False, False, False, False, False,  True,\n       False, False, False, False,  True,  True, False, False, False,\n       False, False,  True, False,  True, False,  True, False, False,\n       False,  True, False, False, False, False, False, False, False,\n       False, False,  True, False, False, False, False, False, False,\n       False,  True, False, False, False,  True,  True, False, False,\n        True,  True, False, False, False, False, False, False,  True,\n       False, False, False, False,  True, False, False,  True, False,\n       False, False,  True, False, False, False,  True, False, False,\n       False, False, False, False,  True, False, False, False, False,\n       False, False,  True,  True, False, False, False,  True,  True,\n        True,  True,  True,  True, False,  True, False, False, False,\n       False, False,  True, False,  True, False, False,  True, False,\n       False,  True, False, False, False, False, False, False, False,\n        True, False, False, False,  True,  True, False, False,  True,\n        True,  True,  True, False, False,  True,  True,  True,  True,\n        True,  True,  True,  True, False, False, False,  True, False,\n        True, False, False,  True, False,  True, False, False,  True,\n       False, False, False, False, False, False, False, False, False,\n       False, False, False, False,  True, False,  True, False,  True,\n       False, False, False, False,  True, False,  True, False, False,\n       False, False, False, False, False,  True, False, False,  True,\n       False, False, False,  True, False, False, False, False,  True,\n       False, False, False, False, False, False, False, False, False,\n       False, False,  True, False,  True,  True,  True,  True,  True,\n       False,  True,  True,  True,  True,  True, False, False, False,\n        True,  True,  True,  True,  True,  True,  True, False,  True,\n        True,  True,  True,  True,  True,  True,  True,  True,  True,\n        True,  True]), 0)' is an invalid key",
      "\nDuring handling of the above exception, another exception occurred:\n",
      "\u001b[1;31mInvalidIndexError\u001b[0m                         Traceback (most recent call last)",
      "Input \u001b[1;32mIn [55]\u001b[0m, in \u001b[0;36m<cell line: 2>\u001b[1;34m()\u001b[0m\n\u001b[0;32m      1\u001b[0m \u001b[38;5;66;03m# Plot the results\u001b[39;00m\n\u001b[1;32m----> 2\u001b[0m plt\u001b[38;5;241m.\u001b[39mscatter(\u001b[43mx1\u001b[49m\u001b[43m[\u001b[49m\u001b[43my_hc\u001b[49m\u001b[38;5;241;43m==\u001b[39;49m\u001b[38;5;241;43m0\u001b[39;49m\u001b[43m,\u001b[49m\u001b[38;5;241;43m0\u001b[39;49m\u001b[43m]\u001b[49m, x1[y_hc\u001b[38;5;241m==\u001b[39m\u001b[38;5;241m0\u001b[39m,\u001b[38;5;241m1\u001b[39m], c\u001b[38;5;241m=\u001b[39m\u001b[38;5;124m'\u001b[39m\u001b[38;5;124mred\u001b[39m\u001b[38;5;124m'\u001b[39m, label\u001b[38;5;241m=\u001b[39m\u001b[38;5;124m'\u001b[39m\u001b[38;5;124mCluster 0\u001b[39m\u001b[38;5;124m'\u001b[39m)\n\u001b[0;32m      3\u001b[0m plt\u001b[38;5;241m.\u001b[39mscatter(x1[y_hc\u001b[38;5;241m==\u001b[39m\u001b[38;5;241m1\u001b[39m,\u001b[38;5;241m0\u001b[39m], x1[y_hc\u001b[38;5;241m==\u001b[39m\u001b[38;5;241m1\u001b[39m,\u001b[38;5;241m1\u001b[39m], c\u001b[38;5;241m=\u001b[39m\u001b[38;5;124m'\u001b[39m\u001b[38;5;124mblue\u001b[39m\u001b[38;5;124m'\u001b[39m, label\u001b[38;5;241m=\u001b[39m\u001b[38;5;124m'\u001b[39m\u001b[38;5;124mCluster 1\u001b[39m\u001b[38;5;124m'\u001b[39m)\n\u001b[0;32m      4\u001b[0m plt\u001b[38;5;241m.\u001b[39mscatter(x1[y_hc\u001b[38;5;241m==\u001b[39m\u001b[38;5;241m2\u001b[39m,\u001b[38;5;241m0\u001b[39m], x1[y_hc\u001b[38;5;241m==\u001b[39m\u001b[38;5;241m2\u001b[39m,\u001b[38;5;241m1\u001b[39m], c\u001b[38;5;241m=\u001b[39m\u001b[38;5;124m'\u001b[39m\u001b[38;5;124mgreen\u001b[39m\u001b[38;5;124m'\u001b[39m, label\u001b[38;5;241m=\u001b[39m\u001b[38;5;124m'\u001b[39m\u001b[38;5;124mCluster 2\u001b[39m\u001b[38;5;124m'\u001b[39m)\n",
      "File \u001b[1;32mD:\\anaconda3\\lib\\site-packages\\pandas\\core\\frame.py:3505\u001b[0m, in \u001b[0;36mDataFrame.__getitem__\u001b[1;34m(self, key)\u001b[0m\n\u001b[0;32m   3503\u001b[0m \u001b[38;5;28;01mif\u001b[39;00m \u001b[38;5;28mself\u001b[39m\u001b[38;5;241m.\u001b[39mcolumns\u001b[38;5;241m.\u001b[39mnlevels \u001b[38;5;241m>\u001b[39m \u001b[38;5;241m1\u001b[39m:\n\u001b[0;32m   3504\u001b[0m     \u001b[38;5;28;01mreturn\u001b[39;00m \u001b[38;5;28mself\u001b[39m\u001b[38;5;241m.\u001b[39m_getitem_multilevel(key)\n\u001b[1;32m-> 3505\u001b[0m indexer \u001b[38;5;241m=\u001b[39m \u001b[38;5;28;43mself\u001b[39;49m\u001b[38;5;241;43m.\u001b[39;49m\u001b[43mcolumns\u001b[49m\u001b[38;5;241;43m.\u001b[39;49m\u001b[43mget_loc\u001b[49m\u001b[43m(\u001b[49m\u001b[43mkey\u001b[49m\u001b[43m)\u001b[49m\n\u001b[0;32m   3506\u001b[0m \u001b[38;5;28;01mif\u001b[39;00m is_integer(indexer):\n\u001b[0;32m   3507\u001b[0m     indexer \u001b[38;5;241m=\u001b[39m [indexer]\n",
      "File \u001b[1;32mD:\\anaconda3\\lib\\site-packages\\pandas\\core\\indexes\\base.py:3628\u001b[0m, in \u001b[0;36mIndex.get_loc\u001b[1;34m(self, key, method, tolerance)\u001b[0m\n\u001b[0;32m   3623\u001b[0m         \u001b[38;5;28;01mraise\u001b[39;00m \u001b[38;5;167;01mKeyError\u001b[39;00m(key) \u001b[38;5;28;01mfrom\u001b[39;00m \u001b[38;5;21;01merr\u001b[39;00m\n\u001b[0;32m   3624\u001b[0m     \u001b[38;5;28;01mexcept\u001b[39;00m \u001b[38;5;167;01mTypeError\u001b[39;00m:\n\u001b[0;32m   3625\u001b[0m         \u001b[38;5;66;03m# If we have a listlike key, _check_indexing_error will raise\u001b[39;00m\n\u001b[0;32m   3626\u001b[0m         \u001b[38;5;66;03m#  InvalidIndexError. Otherwise we fall through and re-raise\u001b[39;00m\n\u001b[0;32m   3627\u001b[0m         \u001b[38;5;66;03m#  the TypeError.\u001b[39;00m\n\u001b[1;32m-> 3628\u001b[0m         \u001b[38;5;28;43mself\u001b[39;49m\u001b[38;5;241;43m.\u001b[39;49m\u001b[43m_check_indexing_error\u001b[49m\u001b[43m(\u001b[49m\u001b[43mkey\u001b[49m\u001b[43m)\u001b[49m\n\u001b[0;32m   3629\u001b[0m         \u001b[38;5;28;01mraise\u001b[39;00m\n\u001b[0;32m   3631\u001b[0m \u001b[38;5;66;03m# GH#42269\u001b[39;00m\n",
      "File \u001b[1;32mD:\\anaconda3\\lib\\site-packages\\pandas\\core\\indexes\\base.py:5637\u001b[0m, in \u001b[0;36mIndex._check_indexing_error\u001b[1;34m(self, key)\u001b[0m\n\u001b[0;32m   5633\u001b[0m \u001b[38;5;28;01mdef\u001b[39;00m \u001b[38;5;21m_check_indexing_error\u001b[39m(\u001b[38;5;28mself\u001b[39m, key):\n\u001b[0;32m   5634\u001b[0m     \u001b[38;5;28;01mif\u001b[39;00m \u001b[38;5;129;01mnot\u001b[39;00m is_scalar(key):\n\u001b[0;32m   5635\u001b[0m         \u001b[38;5;66;03m# if key is not a scalar, directly raise an error (the code below\u001b[39;00m\n\u001b[0;32m   5636\u001b[0m         \u001b[38;5;66;03m# would convert to numpy arrays and raise later any way) - GH29926\u001b[39;00m\n\u001b[1;32m-> 5637\u001b[0m         \u001b[38;5;28;01mraise\u001b[39;00m InvalidIndexError(key)\n",
      "\u001b[1;31mInvalidIndexError\u001b[0m: (array([False, False,  True, False, False, False, False,  True,  True,\n        True,  True, False,  True,  True,  True,  True, False,  True,\n        True, False, False, False, False,  True,  True, False,  True,\n       False,  True, False,  True, False,  True,  True, False,  True,\n        True, False,  True,  True,  True,  True,  True, False,  True,\n       False, False, False, False,  True,  True, False, False, False,\n        True, False, False,  True, False, False, False,  True,  True,\n       False,  True,  True,  True, False, False, False,  True, False,\n        True, False, False, False, False, False,  True, False,  True,\n       False,  True,  True, False, False,  True,  True,  True, False,\n        True,  True, False, False, False,  True, False, False, False,\n       False,  True, False,  True, False, False, False, False, False,\n       False,  True, False,  True, False, False, False,  True, False,\n       False,  True, False, False, False, False, False, False, False,\n        True, False, False,  True, False, False,  True, False,  True,\n        True, False, False, False, False, False, False, False, False,\n       False, False, False, False, False, False,  True,  True, False,\n       False, False, False,  True, False, False, False, False, False,\n       False,  True,  True, False, False, False,  True, False, False,\n       False, False, False, False, False, False, False,  True, False,\n        True,  True, False, False,  True, False, False, False, False,\n       False,  True,  True, False,  True,  True, False,  True,  True,\n        True, False, False, False,  True,  True, False, False, False,\n       False,  True, False,  True, False, False,  True,  True, False,\n       False, False,  True,  True, False, False, False, False, False,\n       False, False, False,  True,  True, False,  True,  True,  True,\n       False,  True,  True,  True,  True,  True, False, False, False,\n        True,  True, False, False, False,  True, False,  True, False,\n       False, False, False, False,  True, False,  True,  True,  True,\n        True,  True, False,  True,  True, False,  True, False, False,\n       False, False,  True, False,  True, False, False, False, False,\n       False,  True, False, False, False, False, False,  True, False,\n       False, False, False, False, False, False, False, False, False,\n       False, False,  True, False, False,  True, False, False,  True,\n       False, False, False, False, False, False, False, False, False,\n       False, False, False, False, False, False, False, False,  True,\n       False, False, False, False,  True,  True, False, False, False,\n       False, False,  True, False,  True, False,  True, False, False,\n       False,  True, False, False, False, False, False, False, False,\n       False, False,  True, False, False, False, False, False, False,\n       False,  True, False, False, False,  True,  True, False, False,\n        True,  True, False, False, False, False, False, False,  True,\n       False, False, False, False,  True, False, False,  True, False,\n       False, False,  True, False, False, False,  True, False, False,\n       False, False, False, False,  True, False, False, False, False,\n       False, False,  True,  True, False, False, False,  True,  True,\n        True,  True,  True,  True, False,  True, False, False, False,\n       False, False,  True, False,  True, False, False,  True, False,\n       False,  True, False, False, False, False, False, False, False,\n        True, False, False, False,  True,  True, False, False,  True,\n        True,  True,  True, False, False,  True,  True,  True,  True,\n        True,  True,  True,  True, False, False, False,  True, False,\n        True, False, False,  True, False,  True, False, False,  True,\n       False, False, False, False, False, False, False, False, False,\n       False, False, False, False,  True, False,  True, False,  True,\n       False, False, False, False,  True, False,  True, False, False,\n       False, False, False, False, False,  True, False, False,  True,\n       False, False, False,  True, False, False, False, False,  True,\n       False, False, False, False, False, False, False, False, False,\n       False, False,  True, False,  True,  True,  True,  True,  True,\n       False,  True,  True,  True,  True,  True, False, False, False,\n        True,  True,  True,  True,  True,  True,  True, False,  True,\n        True,  True,  True,  True,  True,  True,  True,  True,  True,\n        True,  True]), 0)"
     ]
    }
   ],
   "source": [
    "# Plot the results\n",
    "plt.scatter(x1[y_hc==0,0], x1[y_hc==0,1], c='red', label='Cluster 0')\n",
    "plt.scatter(x1[y_hc==1,0], x1[y_hc==1,1], c='blue', label='Cluster 1')\n",
    "plt.scatter(x1[y_hc==2,0], x1[y_hc==2,1], c='green', label='Cluster 2')\n",
    "for label, x, y in zip(labels, x1[:,0], x1[:,1]):\n",
    "    plt.annotate(label,xy=(x,y))\n",
    "plt.xlabel('PCA1')\n",
    "plt.ylabel('PCA2')\n",
    "plt.title('Hierarchical Clustering')\n",
    "plt.legend()\n",
    "plt.show()"
   ]
  },
  {
   "cell_type": "markdown",
   "id": "8b2da5d8",
   "metadata": {},
   "source": [
    "**<center><h1>silhouette</h1></center>**\n",
    "   "
   ]
  },
  {
   "cell_type": "code",
   "execution_count": 57,
   "id": "773e3121",
   "metadata": {},
   "outputs": [],
   "source": [
    "from sklearn.metrics import silhouette_score"
   ]
  },
  {
   "cell_type": "code",
   "execution_count": 58,
   "id": "069750a5",
   "metadata": {},
   "outputs": [
    {
     "name": "stdout",
     "output_type": "stream",
     "text": [
      "For n_clusters= 2 and seed= 0 silhouette avg: 0.5607089596439077\n",
      "For n_clusters= 2 and seed= 1 silhouette avg: 0.5607089596439077\n",
      "For n_clusters= 2 and seed= 2 silhouette avg: 0.5607089596439077\n",
      "For n_clusters= 2 and seed= 3 silhouette avg: 0.5607089596439077\n",
      "For n_clusters= 2 and seed= 4 silhouette avg: 0.5607089596439077\n",
      "For n_clusters= 2 and seed= 5 silhouette avg: 0.5607089596439077\n",
      "For n_clusters= 2 and seed= 6 silhouette avg: 0.5607089596439077\n",
      "For n_clusters= 2 and seed= 7 silhouette avg: 0.5607089596439077\n",
      "For n_clusters= 2 and seed= 8 silhouette avg: 0.5607089596439077\n",
      "For n_clusters= 2 and seed= 9 silhouette avg: 0.5607089596439077\n",
      "For n_clusters= 3 and seed= 0 silhouette avg: 0.5467773329038157\n",
      "For n_clusters= 3 and seed= 1 silhouette avg: 0.5467773329038157\n",
      "For n_clusters= 3 and seed= 2 silhouette avg: 0.5467773329038157\n",
      "For n_clusters= 3 and seed= 3 silhouette avg: 0.5467773329038157\n",
      "For n_clusters= 3 and seed= 4 silhouette avg: 0.5467773329038157\n",
      "For n_clusters= 3 and seed= 5 silhouette avg: 0.5467773329038157\n",
      "For n_clusters= 3 and seed= 6 silhouette avg: 0.5467773329038157\n",
      "For n_clusters= 3 and seed= 7 silhouette avg: 0.5467773329038157\n",
      "For n_clusters= 3 and seed= 8 silhouette avg: 0.5467773329038157\n",
      "For n_clusters= 3 and seed= 9 silhouette avg: 0.5467773329038157\n",
      "For n_clusters= 4 and seed= 0 silhouette avg: 0.53777010228978\n",
      "For n_clusters= 4 and seed= 1 silhouette avg: 0.53777010228978\n",
      "For n_clusters= 4 and seed= 2 silhouette avg: 0.53777010228978\n",
      "For n_clusters= 4 and seed= 3 silhouette avg: 0.53777010228978\n",
      "For n_clusters= 4 and seed= 4 silhouette avg: 0.53777010228978\n",
      "For n_clusters= 4 and seed= 5 silhouette avg: 0.53777010228978\n",
      "For n_clusters= 4 and seed= 6 silhouette avg: 0.53777010228978\n",
      "For n_clusters= 4 and seed= 7 silhouette avg: 0.53777010228978\n",
      "For n_clusters= 4 and seed= 8 silhouette avg: 0.53777010228978\n",
      "For n_clusters= 4 and seed= 9 silhouette avg: 0.53777010228978\n",
      "For n_clusters= 5 and seed= 0 silhouette avg: 0.5281679652487563\n",
      "For n_clusters= 5 and seed= 1 silhouette avg: 0.5281679652487563\n",
      "For n_clusters= 5 and seed= 2 silhouette avg: 0.5271409251762348\n",
      "For n_clusters= 5 and seed= 3 silhouette avg: 0.5273788504158314\n",
      "For n_clusters= 5 and seed= 4 silhouette avg: 0.5239614352373457\n",
      "For n_clusters= 5 and seed= 5 silhouette avg: 0.5247247884465103\n",
      "For n_clusters= 5 and seed= 6 silhouette avg: 0.5247457300518423\n",
      "For n_clusters= 5 and seed= 7 silhouette avg: 0.5314066599186501\n",
      "For n_clusters= 5 and seed= 8 silhouette avg: 0.524579458646968\n",
      "For n_clusters= 5 and seed= 9 silhouette avg: 0.5314066599186501\n",
      "For n_clusters= 6 and seed= 0 silhouette avg: 0.5314720628495867\n",
      "For n_clusters= 6 and seed= 1 silhouette avg: 0.5314720628495867\n",
      "For n_clusters= 6 and seed= 2 silhouette avg: 0.5312742622545149\n",
      "For n_clusters= 6 and seed= 3 silhouette avg: 0.5314720628495867\n",
      "For n_clusters= 6 and seed= 4 silhouette avg: 0.5314720628495867\n",
      "For n_clusters= 6 and seed= 5 silhouette avg: 0.5314720628495867\n",
      "For n_clusters= 6 and seed= 6 silhouette avg: 0.5308261675871953\n",
      "For n_clusters= 6 and seed= 7 silhouette avg: 0.5314720628495867\n",
      "For n_clusters= 6 and seed= 8 silhouette avg: 0.5314720628495867\n",
      "For n_clusters= 6 and seed= 9 silhouette avg: 0.5314720628495867\n",
      "For n_clusters= 7 and seed= 0 silhouette avg: 0.5372590693467459\n",
      "For n_clusters= 7 and seed= 1 silhouette avg: 0.5362391194098503\n",
      "For n_clusters= 7 and seed= 2 silhouette avg: 0.5376324915028631\n",
      "For n_clusters= 7 and seed= 3 silhouette avg: 0.537442769453578\n",
      "For n_clusters= 7 and seed= 4 silhouette avg: 0.5376324915028631\n",
      "For n_clusters= 7 and seed= 5 silhouette avg: 0.5372059326011487\n",
      "For n_clusters= 7 and seed= 6 silhouette avg: 0.5361045883728746\n",
      "For n_clusters= 7 and seed= 7 silhouette avg: 0.537505150254701\n",
      "For n_clusters= 7 and seed= 8 silhouette avg: 0.5365697512178541\n",
      "For n_clusters= 7 and seed= 9 silhouette avg: 0.5374096134329573\n",
      "For n_clusters= 8 and seed= 0 silhouette avg: 0.5385168624208271\n",
      "For n_clusters= 8 and seed= 1 silhouette avg: 0.5359644935856458\n",
      "For n_clusters= 8 and seed= 2 silhouette avg: 0.5381765131121344\n",
      "For n_clusters= 8 and seed= 3 silhouette avg: 0.5374580774461013\n",
      "For n_clusters= 8 and seed= 4 silhouette avg: 0.5374580774461013\n",
      "For n_clusters= 8 and seed= 5 silhouette avg: 0.5345155296984537\n",
      "For n_clusters= 8 and seed= 6 silhouette avg: 0.5366570604157279\n",
      "For n_clusters= 8 and seed= 7 silhouette avg: 0.5356527599779205\n",
      "For n_clusters= 8 and seed= 8 silhouette avg: 0.5361773504106807\n",
      "For n_clusters= 8 and seed= 9 silhouette avg: 0.5349237514702094\n",
      "For n_clusters= 9 and seed= 0 silhouette avg: 0.5369391977538719\n",
      "For n_clusters= 9 and seed= 1 silhouette avg: 0.5365101200620531\n",
      "For n_clusters= 9 and seed= 2 silhouette avg: 0.5365101200620531\n",
      "For n_clusters= 9 and seed= 3 silhouette avg: 0.5368937135999023\n",
      "For n_clusters= 9 and seed= 4 silhouette avg: 0.5347161327910853\n",
      "For n_clusters= 9 and seed= 5 silhouette avg: 0.5350968793755517\n",
      "For n_clusters= 9 and seed= 6 silhouette avg: 0.5364890517989283\n",
      "For n_clusters= 9 and seed= 7 silhouette avg: 0.5365101200620531\n",
      "For n_clusters= 9 and seed= 8 silhouette avg: 0.5365101200620531\n",
      "For n_clusters= 9 and seed= 9 silhouette avg: 0.5283155233312476\n",
      "For n_clusters= 10 and seed= 0 silhouette avg: 0.5361431133458539\n",
      "For n_clusters= 10 and seed= 1 silhouette avg: 0.5285604941998685\n",
      "For n_clusters= 10 and seed= 2 silhouette avg: 0.5414076273973581\n",
      "For n_clusters= 10 and seed= 3 silhouette avg: 0.5411156208319083\n",
      "For n_clusters= 10 and seed= 4 silhouette avg: 0.5361519667521232\n",
      "For n_clusters= 10 and seed= 5 silhouette avg: 0.5352915988911369\n",
      "For n_clusters= 10 and seed= 6 silhouette avg: 0.5411156208319083\n",
      "For n_clusters= 10 and seed= 7 silhouette avg: 0.5372223379741512\n",
      "For n_clusters= 10 and seed= 8 silhouette avg: 0.5414076273973581\n",
      "For n_clusters= 10 and seed= 9 silhouette avg: 0.5411156208319083\n"
     ]
    }
   ],
   "source": [
    "cluster_range = range(2,11)\n",
    "random_range = range(0,10)\n",
    "\n",
    "silhouette=[]       \n",
    "\n",
    "for i in cluster_range:\n",
    "    for j in random_range:\n",
    "        cluster=KMeans(n_clusters=i, random_state=j)\n",
    "        cluster.fit(x1)\n",
    "        cluster_labels= cluster.labels_\n",
    "        silhouette_avg= silhouette_score(x1,cluster_labels)\n",
    "        print(\"For n_clusters=\",i,\"and seed=\",j, \"silhouette avg:\", silhouette_avg )\n",
    "        silhouette.append([i,j,silhouette_avg])"
   ]
  },
  {
   "cell_type": "code",
   "execution_count": null,
   "id": "58ff9967",
   "metadata": {},
   "outputs": [],
   "source": []
  },
  {
   "cell_type": "code",
   "execution_count": null,
   "id": "cb5abd03",
   "metadata": {},
   "outputs": [],
   "source": []
  }
 ],
 "metadata": {
  "kernelspec": {
   "display_name": "Python 3 (ipykernel)",
   "language": "python",
   "name": "python3"
  },
  "language_info": {
   "codemirror_mode": {
    "name": "ipython",
    "version": 3
   },
   "file_extension": ".py",
   "mimetype": "text/x-python",
   "name": "python",
   "nbconvert_exporter": "python",
   "pygments_lexer": "ipython3",
   "version": "3.9.12"
  }
 },
 "nbformat": 4,
 "nbformat_minor": 5
}
